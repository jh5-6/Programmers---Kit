{
 "cells": [
  {
   "cell_type": "markdown",
   "id": "d9fc6ee9",
   "metadata": {},
   "source": [
    "# [구명보트]"
   ]
  },
  {
   "cell_type": "markdown",
   "id": "79e95af6",
   "metadata": {},
   "source": [
    "\n"
   ]
  },
  {
   "cell_type": "markdown",
   "id": "f4e64339",
   "metadata": {},
   "source": [
    "\n"
   ]
  },
  {
   "cell_type": "markdown",
   "id": "0b6f252c",
   "metadata": {},
   "source": [
    "무인도에 갇힌 사람들을 구명보트를 이용하여 구출하려고 합니다. 구명보트는 작아서 한 번에 최대 2명씩 밖에 탈 수 없고, 무게 제한도 있습니다.\n",
    "\n",
    "예를 들어, 사람들의 몸무게가 [70kg, 50kg, 80kg, 50kg]이고 구명보트의 무게 제한이 100kg이라면 2번째 사람과 4번째 사람은 같이 탈 수 있지만 1번째 사람과 3번째 사람의 무게의 합은 150kg이므로 구명보트의 무게 제한을 초과하여 같이 탈 수 없습니다.\n",
    "\n",
    "구명보트를 최대한 적게 사용하여 모든 사람을 구출하려고 합니다.\n",
    "\n",
    "사람들의 몸무게를 담은 배열 people과 구명보트의 무게 제한 limit가 매개변수로 주어질 때, 모든 사람을 구출하기 위해 필요한 구명보트 개수의 최솟값을 return 하도록 solution 함수를 작성해주세요.\n"
   ]
  },
  {
   "cell_type": "markdown",
   "id": "e4bdf242",
   "metadata": {},
   "source": [
    "    <제한사항>\n",
    "    1. 무인도에 갇힌 사람은 1명 이상 50,000명 이하입니다.\n",
    "    2. 각 사람의 몸무게는 40kg 이상 240kg 이하입니다.\n",
    "    3. 구명보트의 무게 제한은 40kg 이상 240kg 이하입니다.\n",
    "    4. 구명보트의 무게 제한은 항상 사람들의 몸무게 중 최댓값보다 크게 주어지므로 사람들을 구출할 수 없는 경우는 없습니다."
   ]
  },
  {
   "cell_type": "markdown",
   "id": "368c2a70",
   "metadata": {},
   "source": [
    "\n"
   ]
  },
  {
   "cell_type": "markdown",
   "id": "566931ae",
   "metadata": {},
   "source": [
    "\n"
   ]
  },
  {
   "cell_type": "markdown",
   "id": "2673ad2f",
   "metadata": {},
   "source": [
    "< 효율성 테스트에서 시간 초과 >"
   ]
  },
  {
   "cell_type": "code",
   "execution_count": 31,
   "id": "abe1fd2f",
   "metadata": {},
   "outputs": [],
   "source": [
    "def solution(people, limit):\n",
    "\n",
    "    count =\n",
    "    while people :\n",
    "        if len(people) <= 1:\n",
    "            count = count + 1\n",
    "            return count \n",
    "        \n",
    "        M = max(people)\n",
    "        m = min(people)\n",
    "        \n",
    "        if M+m <= limit :\n",
    "            people.remove(M)\n",
    "            people.remove(m)\n",
    "            count = count + 1\n",
    "            \n",
    "        else :\n",
    "            people.remove(M)\n",
    "            count = count + 1\n",
    "            \n",
    "    return count"
   ]
  },
  {
   "cell_type": "markdown",
   "id": "6f23252a",
   "metadata": {},
   "source": [
    "\n"
   ]
  },
  {
   "cell_type": "markdown",
   "id": "87d0a336",
   "metadata": {},
   "source": [
    "\n"
   ]
  },
  {
   "cell_type": "markdown",
   "id": "f8871cf8",
   "metadata": {},
   "source": [
    "Solution 1 deque 활용해 문재 풀이\n"
   ]
  },
  {
   "cell_type": "code",
   "execution_count": 33,
   "id": "6a6da172",
   "metadata": {},
   "outputs": [],
   "source": [
    "from collections import deque \n",
    "\n",
    "def solution(people, limit):\n",
    "    \n",
    "    people.sort() \n",
    "    people = deque(people)\n",
    "      \n",
    "    count = 1\n",
    "    total = people.pop()\n",
    "    \n",
    "    while people :\n",
    "       \n",
    "        m = people.popleft()\n",
    "        \n",
    "        if total + m <= limit :\n",
    "            total = total + m\n",
    "           \n",
    "        else :\n",
    "            people.appendleft(m)\n",
    "            count = count + 1\n",
    "            total = people.pop()\n",
    "            \n",
    "    return count"
   ]
  },
  {
   "cell_type": "markdown",
   "id": "e0cc1bfe",
   "metadata": {},
   "source": [
    "\n"
   ]
  },
  {
   "cell_type": "markdown",
   "id": "cb306948",
   "metadata": {},
   "source": [
    "\n"
   ]
  },
  {
   "cell_type": "markdown",
   "id": "c641fa21",
   "metadata": {},
   "source": [
    "Solution 2 배열의 인덱스 활용해 문제 풀이 "
   ]
  },
  {
   "cell_type": "code",
   "execution_count": 35,
   "id": "9a00e25d",
   "metadata": {},
   "outputs": [],
   "source": [
    "def solution(people, limit):\n",
    "    \n",
    "    people.sort()   \n",
    "    count = 0\n",
    "\n",
    "    idx_m = 0\n",
    "    idx_M = len(people) - 1\n",
    "    \n",
    "    while idx_m < idx_M :\n",
    "        \n",
    "        if people[idx_m] + people[idx_M] <= limit :\n",
    "            count = count + 1\n",
    "            idx_m = idx_m + 1\n",
    "\n",
    "        idx_M = idx_M - 1\n",
    "            \n",
    "    return len(people) - count"
   ]
  },
  {
   "cell_type": "markdown",
   "id": "ef5f476d",
   "metadata": {},
   "source": [
    "\n"
   ]
  },
  {
   "cell_type": "markdown",
   "id": "ff526130",
   "metadata": {},
   "source": [
    "\n"
   ]
  },
  {
   "cell_type": "code",
   "execution_count": 36,
   "id": "bed3a5f9",
   "metadata": {},
   "outputs": [
    {
     "data": {
      "text/plain": [
       "3"
      ]
     },
     "execution_count": 36,
     "metadata": {},
     "output_type": "execute_result"
    }
   ],
   "source": [
    "solution([70, 80, 50], 100)"
   ]
  }
 ],
 "metadata": {
  "kernelspec": {
   "display_name": "Python 3 (ipykernel)",
   "language": "python",
   "name": "python3"
  },
  "language_info": {
   "codemirror_mode": {
    "name": "ipython",
    "version": 3
   },
   "file_extension": ".py",
   "mimetype": "text/x-python",
   "name": "python",
   "nbconvert_exporter": "python",
   "pygments_lexer": "ipython3",
   "version": "3.9.7"
  }
 },
 "nbformat": 4,
 "nbformat_minor": 5
}
