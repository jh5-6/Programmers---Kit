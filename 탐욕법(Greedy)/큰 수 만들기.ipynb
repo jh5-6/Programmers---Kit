{
 "cells": [
  {
   "cell_type": "markdown",
   "id": "b1e4a877",
   "metadata": {},
   "source": [
    "# [큰 수 만들기]"
   ]
  },
  {
   "cell_type": "markdown",
   "id": "3241741e",
   "metadata": {},
   "source": [
    "\n"
   ]
  },
  {
   "cell_type": "markdown",
   "id": "7223a173",
   "metadata": {},
   "source": [
    "\n"
   ]
  },
  {
   "cell_type": "markdown",
   "id": "cab6dc19",
   "metadata": {},
   "source": [
    "어떤 숫자에서 k개의 수를 제거했을 때 얻을 수 있는 가장 큰 숫자를 구하려 합니다.\n",
    "\n",
    "예를 들어, 숫자 1924에서 수 두 개를 제거하면 [19, 12, 14, 92, 94, 24] 를 만들 수 있습니다. 이 중 가장 큰 숫자는 94 입니다.\n",
    "\n",
    "문자열 형식으로 숫자 number와 제거할 수의 개수 k가 solution 함수의 매개변수로 주어집니다. number에서 k 개의 수를 제거했을 때 만들 수 있는 수 중 가장 큰 숫자를 문자열 형태로 return 하도록 solution 함수를 완성하세요.\n"
   ]
  },
  {
   "cell_type": "markdown",
   "id": "3c126f43",
   "metadata": {},
   "source": [
    "\n"
   ]
  },
  {
   "cell_type": "markdown",
   "id": "e771036b",
   "metadata": {},
   "source": [
    "    <제한 조건>\n",
    "    - number는 1자리 이상, 1,000,000자리 이하인 숫자입니다.\n",
    "    - k는 1 이상 number의 자릿수 미만인 자연수입니다."
   ]
  },
  {
   "cell_type": "markdown",
   "id": "24c2c034",
   "metadata": {},
   "source": [
    "\n",
    "\n"
   ]
  },
  {
   "cell_type": "markdown",
   "id": "c3ef3482",
   "metadata": {},
   "source": [
    "\n",
    "\n"
   ]
  },
  {
   "cell_type": "markdown",
   "id": "a9d650d3",
   "metadata": {},
   "source": [
    "[TIP]\n",
    "- max() 사용할 경우 시간 초과 문제 발생 getMax() 직접 구현\n",
    "- getMax() : 9인경우 바로 return하여 시간 초과 방지 \n"
   ]
  },
  {
   "cell_type": "markdown",
   "id": "5b15249c",
   "metadata": {},
   "source": [
    "\n"
   ]
  },
  {
   "cell_type": "markdown",
   "id": "3d4fb4ca",
   "metadata": {},
   "source": [
    "\n"
   ]
  },
  {
   "cell_type": "markdown",
   "id": "dbba85fc",
   "metadata": {},
   "source": [
    "Solution 1 combinations 사용해 가능한 모든 조합 살펴보기 : 거의 모든 test case 시간초과 "
   ]
  },
  {
   "cell_type": "code",
   "execution_count": 1,
   "id": "7a1f1741",
   "metadata": {},
   "outputs": [],
   "source": [
    "from itertools import combinations\n",
    "\n",
    "def solution(number, k):\n",
    "\n",
    "    combi = list(combinations(number, len(number) - k))\n",
    "    numbers = [''.join(num) for num in combi]\n",
    " \n",
    "    return max(numbers)"
   ]
  },
  {
   "cell_type": "markdown",
   "id": "b294f63e",
   "metadata": {},
   "source": [
    "\n"
   ]
  },
  {
   "cell_type": "markdown",
   "id": "22f1254f",
   "metadata": {},
   "source": [
    "\n"
   ]
  },
  {
   "cell_type": "markdown",
   "id": "45a58c17",
   "metadata": {},
   "source": [
    "Solution 2  max() 사용해 가능한 범위 내 큰 수 구하기 : 1가지 test case 시간초과 "
   ]
  },
  {
   "cell_type": "code",
   "execution_count": 2,
   "id": "6496ebf0",
   "metadata": {},
   "outputs": [],
   "source": [
    "def solution(number, k):\n",
    "\n",
    "    min_idx = 0\n",
    "    max_idx = k + 1\n",
    "    num = []\n",
    "    \n",
    "    while len(num) < len(number) - k:\n",
    "    \n",
    "        num_max = max(number[min_idx:max_idx])\n",
    "        num.append(num_max)\n",
    "        \n",
    "        idx = number.find(num_max, min_idx)\n",
    "\n",
    "        min_idx = idx + 1\n",
    "        max_idx = max_idx + 1\n",
    "        \n",
    "    return ''.join(num)"
   ]
  },
  {
   "cell_type": "markdown",
   "id": "1c568795",
   "metadata": {},
   "source": [
    "\n"
   ]
  },
  {
   "cell_type": "markdown",
   "id": "5f49bfa0",
   "metadata": {},
   "source": [
    "\n"
   ]
  },
  {
   "cell_type": "markdown",
   "id": "71d9d62d",
   "metadata": {},
   "source": [
    "Solution 3  max() -> getMax() "
   ]
  },
  {
   "cell_type": "code",
   "execution_count": 3,
   "id": "e362f80c",
   "metadata": {},
   "outputs": [],
   "source": [
    "def getMax(number) :\n",
    "    M = \"-1\" \n",
    "    for num in number: \n",
    "        if num == \"9\" :\n",
    "            return \"9\"\n",
    "        elif num > M :\n",
    "            M = num \n",
    "    return M\n",
    "\n",
    "def solution(number, k):\n",
    "\n",
    "    min_idx = 0\n",
    "    max_idx = k + 1\n",
    "    num = []\n",
    "    \n",
    "    for _ in range(len(number) - k):\n",
    "    \n",
    "        num_max = getMax(number[min_idx:max_idx])\n",
    "        num.append(num_max)\n",
    "        \n",
    "        idx = number.find(num_max, min_idx)\n",
    "\n",
    "        min_idx = idx + 1\n",
    "        max_idx = max_idx + 1\n",
    "        \n",
    "    return ''.join(num)"
   ]
  },
  {
   "cell_type": "markdown",
   "id": "df48eed5",
   "metadata": {},
   "source": [
    "\n"
   ]
  },
  {
   "cell_type": "markdown",
   "id": "fedac21c",
   "metadata": {},
   "source": [
    "\n"
   ]
  },
  {
   "cell_type": "code",
   "execution_count": 4,
   "id": "c503e4ff",
   "metadata": {},
   "outputs": [
    {
     "data": {
      "text/plain": [
       "'775841'"
      ]
     },
     "execution_count": 4,
     "metadata": {},
     "output_type": "execute_result"
    }
   ],
   "source": [
    "solution(\"4177252841\", 4)"
   ]
  }
 ],
 "metadata": {
  "kernelspec": {
   "display_name": "Python 3 (ipykernel)",
   "language": "python",
   "name": "python3"
  },
  "language_info": {
   "codemirror_mode": {
    "name": "ipython",
    "version": 3
   },
   "file_extension": ".py",
   "mimetype": "text/x-python",
   "name": "python",
   "nbconvert_exporter": "python",
   "pygments_lexer": "ipython3",
   "version": "3.9.7"
  }
 },
 "nbformat": 4,
 "nbformat_minor": 5
}
