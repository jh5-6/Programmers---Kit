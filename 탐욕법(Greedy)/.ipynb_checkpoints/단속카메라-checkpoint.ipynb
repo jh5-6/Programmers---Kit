{
 "cells": [
  {
   "cell_type": "markdown",
   "id": "0671ef50",
   "metadata": {},
   "source": [
    "# [단속카메라]"
   ]
  },
  {
   "cell_type": "markdown",
   "id": "14d34636",
   "metadata": {},
   "source": [
    "\n"
   ]
  },
  {
   "cell_type": "markdown",
   "id": "0bff0f8c",
   "metadata": {},
   "source": [
    "고속도로를 이동하는 모든 차량이 고속도로를 이용하면서 단속용 카메라를 한 번은 만나도록 카메라를 설치하려고 합니다.\n",
    "\n",
    "고속도로를 이동하는 차량의 경로 routes가 매개변수로 주어질 때, 모든 차량이 한 번은 단속용 카메라를 만나도록 하려면 최소 몇 대의 카메라를 설치해야 하는지를 return 하도록 solution 함수를 완성하세요."
   ]
  },
  {
   "cell_type": "markdown",
   "id": "54f07901",
   "metadata": {},
   "source": [
    "\n"
   ]
  },
  {
   "cell_type": "markdown",
   "id": "7adc1a24",
   "metadata": {},
   "source": [
    "< 제한사항 >\n",
    "\n",
    "- 차량의 대수는 1대 이상 10,000대 이하입니다.\n",
    "- routes에는 차량의 이동 경로가 포함되어 있으며 routes[i][0]에는 i번째 차량이 고속도로에 진입한 지점, routes[i][1]에는 i번째 차량이 고속도로에서 나간 지점이 적혀 있습니다.\n",
    "- 차량의 진입/진출 지점에 카메라가 설치되어 있어도 카메라를 만난것으로 간주합니다.\n",
    "- 차량의 진입 지점, 진출 지점은 -30,000 이상 30,000 이하입니다."
   ]
  },
  {
   "cell_type": "markdown",
   "id": "b56b6e04",
   "metadata": {},
   "source": [
    "\n"
   ]
  },
  {
   "cell_type": "markdown",
   "id": "c6ba1581",
   "metadata": {},
   "source": [
    "\n"
   ]
  },
  {
   "cell_type": "markdown",
   "id": "34d6187e",
   "metadata": {},
   "source": [
    "[TIP]\n",
    "\n",
    "- 진출 순서로 정렬하기\n"
   ]
  },
  {
   "cell_type": "markdown",
   "id": "f7b858e0",
   "metadata": {},
   "source": [
    "\n"
   ]
  },
  {
   "cell_type": "markdown",
   "id": "f0a62cc4",
   "metadata": {},
   "source": [
    "\n"
   ]
  },
  {
   "cell_type": "markdown",
   "id": "5bc6c334",
   "metadata": {},
   "source": [
    "Solution "
   ]
  },
  {
   "cell_type": "code",
   "execution_count": 44,
   "id": "41ed427b",
   "metadata": {},
   "outputs": [],
   "source": [
    "def solution(routes):\n",
    "       \n",
    "    routes.sort(key = lambda x:x[1])\n",
    "    cam = -30001   \n",
    "    answer = 0\n",
    "    \n",
    "    for i,e in routes:\n",
    "        if cam < i :\n",
    "            answer += 1 \n",
    "            cam = e \n",
    "                    \n",
    "    return answer "
   ]
  },
  {
   "cell_type": "markdown",
   "id": "71b99088",
   "metadata": {},
   "source": [
    "\n"
   ]
  },
  {
   "cell_type": "markdown",
   "id": "93a8c236",
   "metadata": {},
   "source": [
    "\n"
   ]
  },
  {
   "cell_type": "code",
   "execution_count": 45,
   "id": "503765e7",
   "metadata": {},
   "outputs": [
    {
     "data": {
      "text/plain": [
       "2"
      ]
     },
     "execution_count": 45,
     "metadata": {},
     "output_type": "execute_result"
    }
   ],
   "source": [
    "solution([[-20,-15], [-14,-5], [-18,-13], [-5,-3]])"
   ]
  }
 ],
 "metadata": {
  "kernelspec": {
   "display_name": "Python 3 (ipykernel)",
   "language": "python",
   "name": "python3"
  },
  "language_info": {
   "codemirror_mode": {
    "name": "ipython",
    "version": 3
   },
   "file_extension": ".py",
   "mimetype": "text/x-python",
   "name": "python",
   "nbconvert_exporter": "python",
   "pygments_lexer": "ipython3",
   "version": "3.9.7"
  }
 },
 "nbformat": 4,
 "nbformat_minor": 5
}
