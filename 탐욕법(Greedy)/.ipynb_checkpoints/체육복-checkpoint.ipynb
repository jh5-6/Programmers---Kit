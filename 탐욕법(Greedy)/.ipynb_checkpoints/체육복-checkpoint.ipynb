{
 "cells": [
  {
   "cell_type": "markdown",
   "id": "b8b4486d",
   "metadata": {},
   "source": [
    "# [체육복]"
   ]
  },
  {
   "cell_type": "markdown",
   "id": "1bfe72c2",
   "metadata": {},
   "source": [
    "\n",
    "\n"
   ]
  },
  {
   "cell_type": "markdown",
   "id": "a40a78dc",
   "metadata": {},
   "source": [
    "점심시간에 도둑이 들어, 일부 학생이 체육복을 도난당했습니다. 다행히 여벌 체육복이 있는 학생이 이들에게 체육복을 빌려주려 합니다. 학생들의 번호는 체격 순으로 매겨져 있어, 바로 앞번호의 학생이나 바로 뒷번호의 학생에게만 체육복을 빌려줄 수 있습니다. 예를 들어, 4번 학생은 3번 학생이나 5번 학생에게만 체육복을 빌려줄 수 있습니다. 체육복이 없으면 수업을 들을 수 없기 때문에 체육복을 적절히 빌려 최대한 많은 학생이 체육수업을 들어야 합니다.\n",
    "\n",
    "전체 학생의 수 n, 체육복을 도난당한 학생들의 번호가 담긴 배열 lost, 여벌의 체육복을 가져온 학생들의 번호가 담긴 배열 reserve가 매개변수로 주어질 때, 체육수업을 들을 수 있는 학생의 최댓값을 return 하도록 solution 함수를 작성해주세요.\n",
    "\n",
    "    [제한사항]\n",
    "    - 전체 학생의 수는 2명 이상 30명 이하입니다.\n",
    "    - 체육복을 도난당한 학생의 수는 1명 이상 n명 이하이고 중복되는 번호는 없습니다.\n",
    "    - 여벌의 체육복을 가져온 학생의 수는 1명 이상 n명 이하이고 중복되는 번호는 없습니다.\n",
    "    - 여벌 체육복이 있는 학생만 다른 학생에게 체육복을 빌려줄 수 있습니다.\n",
    "    - 여벌 체육복을 가져온 학생이 체육복을 도난당했을 수 있습니다. 이때 이 학생은 체육복을 하나만 도난당했다고 가정하며, 남은 체육복이 하나이기에 다른 학생에게는 체육복을 빌려줄 수 없습니다."
   ]
  },
  {
   "cell_type": "markdown",
   "id": "dbe60dbe",
   "metadata": {},
   "source": [
    "\n",
    "\n"
   ]
  },
  {
   "cell_type": "markdown",
   "id": "380424a2",
   "metadata": {},
   "source": [
    "[TIP]\n",
    "\n",
    "* Test case : 도난 당한 학생이 여분의 체육복이 있는 경우 \n",
    "    \n",
    "* set() : 집합에 관련된 것을 처리 하기 위해 만들어진 자료형"
   ]
  },
  {
   "cell_type": "code",
   "execution_count": 1,
   "id": "0ffee1ce",
   "metadata": {},
   "outputs": [
    {
     "name": "stdout",
     "output_type": "stream",
     "text": [
      "[1, 2, 6, 3, 9, 5]\n",
      "[1, 2, 3, 5, 6, 9]\n"
     ]
    }
   ],
   "source": [
    "# set() 사용 예제\n",
    "\n",
    "a = [1, 2, 6, 3, 9, 5, 4]\n",
    "b = [4]\n",
    "\n",
    "arr = [i for i in a if i not in b]\n",
    "arr2 = list(set(a) - set(b))\n",
    "\n",
    "print(arr)\n",
    "print(arr2)"
   ]
  },
  {
   "cell_type": "markdown",
   "id": "4ffa6753",
   "metadata": {},
   "source": [
    "\n",
    "\n"
   ]
  },
  {
   "cell_type": "markdown",
   "id": "b7d3877f",
   "metadata": {},
   "source": [
    "\n",
    "\n"
   ]
  },
  {
   "cell_type": "markdown",
   "id": "2494463e",
   "metadata": {},
   "source": [
    "Solution 1"
   ]
  },
  {
   "cell_type": "code",
   "execution_count": 2,
   "id": "63f0b7e4",
   "metadata": {},
   "outputs": [],
   "source": [
    "import collections\n",
    "\n",
    "def solution(n, lost, reserve):\n",
    "\n",
    "    lost.sort()\n",
    "    reserve.sort() \n",
    "    \n",
    "    real_lost = list(collections.Counter(lost) - collections.Counter(reserve))\n",
    "    real_reserve = list(collections.Counter(reserve) - collections.Counter(lost))\n",
    "    \n",
    "    for reserve_student in real_reserve:\n",
    "        s1 = reserve_student - 1\n",
    "        s2 = reserve_student + 1\n",
    "        \n",
    "        if len(real_lost) <= 0:\n",
    "            return n\n",
    "        \n",
    "        for lost_student in real_lost: \n",
    "            if (s1 == lost_student) or (s2 == lost_student):\n",
    "                real_lost.remove(lost_student)\n",
    "                break\n",
    "                                          \n",
    "    return n - len(real_lost)"
   ]
  },
  {
   "cell_type": "markdown",
   "id": "ec288152",
   "metadata": {},
   "source": [
    "\n",
    "\n"
   ]
  },
  {
   "cell_type": "markdown",
   "id": "1b618746",
   "metadata": {},
   "source": [
    "\n",
    "\n"
   ]
  },
  {
   "cell_type": "markdown",
   "id": "fbc9e1c0",
   "metadata": {},
   "source": [
    "Solution 2 이중 for문 -> 단일 for문"
   ]
  },
  {
   "cell_type": "code",
   "execution_count": 3,
   "id": "04ba9421",
   "metadata": {},
   "outputs": [],
   "source": [
    "def solution(n, lost, reserve):\n",
    "\n",
    "    real_lost = [l for l in lost if l not in reserve]\n",
    "    real_reserve = [r for r in reserve if r not in lost]\n",
    "    \n",
    "    real_lost.sort()\n",
    "    real_reserve.sort()\n",
    "    \n",
    "    for reserve_student in real_reserve :\n",
    "        s1 = reserve_student - 1 \n",
    "        s2 = reserve_student +1 \n",
    "        \n",
    "        if s1 in real_lost:\n",
    "            real_lost.remove(s1)\n",
    "        elif s2 in real_lost :\n",
    "            real_lost.remove(s2)\n",
    "            \n",
    "    return n - len(real_lost)"
   ]
  },
  {
   "cell_type": "markdown",
   "id": "65f19c54",
   "metadata": {},
   "source": [
    "\n",
    "\n"
   ]
  },
  {
   "cell_type": "markdown",
   "id": "b5a51dd7",
   "metadata": {},
   "source": [
    "\n",
    "\n"
   ]
  },
  {
   "cell_type": "markdown",
   "id": "4d857b93",
   "metadata": {},
   "source": [
    "Solution 3 set() 사용해 문제 풀이 "
   ]
  },
  {
   "cell_type": "code",
   "execution_count": 4,
   "id": "08ea46d1",
   "metadata": {},
   "outputs": [],
   "source": [
    "def solution(n, lost, reserve):\n",
    "    \n",
    "    real_lost = list(set(lost) - set(reserve))\n",
    "    real_reserve = list(set(reserve) - set(lost))\n",
    "\n",
    "    for reserve_student in real_reserve :\n",
    "        s1 = reserve_student - 1 \n",
    "        s2 = reserve_student +1 \n",
    "        \n",
    "        if s1 in real_lost:\n",
    "            real_lost.remove(s1)\n",
    "        elif s2 in real_lost :\n",
    "            real_lost.remove(s2)\n",
    "            \n",
    "    return n - len(real_lost)"
   ]
  },
  {
   "cell_type": "markdown",
   "id": "af20b610",
   "metadata": {},
   "source": [
    "\n",
    "\n"
   ]
  },
  {
   "cell_type": "code",
   "execution_count": 5,
   "id": "1162b9a2",
   "metadata": {},
   "outputs": [
    {
     "data": {
      "text/plain": [
       "2"
      ]
     },
     "execution_count": 5,
     "metadata": {},
     "output_type": "execute_result"
    }
   ],
   "source": [
    "solution(3,[1,2],[2,3])"
   ]
  }
 ],
 "metadata": {
  "kernelspec": {
   "display_name": "Python 3 (ipykernel)",
   "language": "python",
   "name": "python3"
  },
  "language_info": {
   "codemirror_mode": {
    "name": "ipython",
    "version": 3
   },
   "file_extension": ".py",
   "mimetype": "text/x-python",
   "name": "python",
   "nbconvert_exporter": "python",
   "pygments_lexer": "ipython3",
   "version": "3.9.7"
  }
 },
 "nbformat": 4,
 "nbformat_minor": 5
}
