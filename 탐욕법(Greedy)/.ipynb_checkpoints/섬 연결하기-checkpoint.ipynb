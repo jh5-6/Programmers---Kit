{
 "cells": [
  {
   "cell_type": "markdown",
   "id": "96426348",
   "metadata": {},
   "source": [
    "# [섬 연결하기]"
   ]
  },
  {
   "cell_type": "markdown",
   "id": "308e1493",
   "metadata": {},
   "source": [
    "\n"
   ]
  },
  {
   "cell_type": "markdown",
   "id": "53a466b2",
   "metadata": {},
   "source": [
    "n개의 섬 사이에 다리를 건설하는 비용(costs)이 주어질 때, 최소의 비용으로 모든 섬이 서로 통행 가능하도록 만들 때 필요한 최소 비용을 return 하도록 solution을 완성하세요.\n",
    "\n",
    "다리를 여러 번 건너더라도, 도달할 수만 있으면 통행 가능하다고 봅니다. 예를 들어 A 섬과 B 섬 사이에 다리가 있고, B 섬과 C 섬 사이에 다리가 있으면 A 섬과 C 섬은 서로 통행 가능합니다."
   ]
  },
  {
   "cell_type": "markdown",
   "id": "de1663a5",
   "metadata": {},
   "source": [
    "\n"
   ]
  },
  {
   "cell_type": "markdown",
   "id": "5c897c05",
   "metadata": {},
   "source": [
    "< 제한사항 >\n",
    "\n",
    "- 섬의 개수 n은 1 이상 100 이하입니다.\n",
    "- costs의 길이는 ((n-1) * n) / 2이하입니다.\n",
    "- 임의의 i에 대해, costs[i][0] 와 costs[i] [1]에는 다리가 연결되는 두 섬의 번호가 들어있고, costs[i] [2]에는 이 두 섬을 연결하는 다리를 건설할 때 드는 비용입니다.\n",
    "- 같은 연결은 두 번 주어지지 않습니다. 또한 순서가 바뀌더라도 같은 연결로 봅니다. 즉 0과 1 사이를 연결하는 비용이 주어졌을 때, 1과 0의 비용이 주어지지 않습니다.\n",
    "- 모든 섬 사이의 다리 건설 비용이 주어지지 않습니다. 이 경우, 두 섬 사이의 건설이 불가능한 것으로 봅니다.\n",
    "- 연결할 수 없는 섬은 주어지지 않습니다."
   ]
  },
  {
   "cell_type": "markdown",
   "id": "de110aef",
   "metadata": {},
   "source": [
    "\n"
   ]
  },
  {
   "cell_type": "markdown",
   "id": "ea40a10b",
   "metadata": {},
   "source": [
    "\n"
   ]
  },
  {
   "cell_type": "markdown",
   "id": "a2baa46a",
   "metadata": {},
   "source": [
    "[문제 접근 방식] \n",
    "\n",
    "- Kruskal's Algorithm : 가장 적은 비용으로 모든 노드를 연결하기 위해 사용하는 알고리즘 \n",
    "\n",
    "    1. 그래프의 간선을 가중치의 오름차순으로 정렬 \n",
    "\n",
    "    2. 사이클을 형성하는 간선을 제외하고 가장 낮은 가중치를 갖는 간선 선택\n",
    "       - 노드의 부모를 찾는 find_parent()를 통해 꺼내온 두 노드의 부모를 비교\n",
    "       - 부모가 다른 경우에만 union_parent()로 두 노드를 연결\n",
    "        \n",
    "    3. 두 노드를 잇는 간선의 가중치를 answer에 누적 합\n"
   ]
  },
  {
   "cell_type": "markdown",
   "id": "6f95e4cb",
   "metadata": {},
   "source": [
    "\n"
   ]
  },
  {
   "cell_type": "markdown",
   "id": "eb952a61",
   "metadata": {},
   "source": [
    "\n"
   ]
  },
  {
   "cell_type": "markdown",
   "id": "dc359992",
   "metadata": {},
   "source": [
    "Solution 1"
   ]
  },
  {
   "cell_type": "code",
   "execution_count": 24,
   "id": "70756686",
   "metadata": {},
   "outputs": [],
   "source": [
    "def find_parent(parent, x):\n",
    "    if parent[x] != x:\n",
    "        parent[x] = find_parent(parent, parent[x])\n",
    "\n",
    "    return parent[x]\n",
    "\n",
    "\n",
    "def union_parent(parent, n1, n2):\n",
    "    n1 = find_parent(parent, n1)\n",
    "    n2 = find_parent(parent, n2) \n",
    "    \n",
    "    if n1 < n2 :\n",
    "        parent[n2] = n1\n",
    "    else :\n",
    "        parent[n1] = n2\n",
    "        \n",
    "\n",
    "def solution(n, costs):   \n",
    "    answer = 0 \n",
    "    \n",
    "    cnt = 0\n",
    "    parent = [i for i in range(n)]\n",
    "    costs.sort(key=lambda x:x[2])\n",
    "\n",
    "    for n1, n2, w in costs:         \n",
    "        if find_parent(parent, n1) != find_parent(parent, n2):   \n",
    "            union_parent(parent, n1, n2)\n",
    "            answer += w\n",
    "            cnt += 1\n",
    "            \n",
    "        if cnt == n-1:\n",
    "            break\n",
    "            \n",
    "    return answer"
   ]
  },
  {
   "cell_type": "markdown",
   "id": "9119f8f5",
   "metadata": {},
   "source": [
    "\n"
   ]
  },
  {
   "cell_type": "markdown",
   "id": "8347d60d",
   "metadata": {},
   "source": [
    "\n"
   ]
  },
  {
   "cell_type": "markdown",
   "id": "f4962e63",
   "metadata": {},
   "source": [
    "Solution 2"
   ]
  },
  {
   "cell_type": "code",
   "execution_count": 25,
   "id": "93d2f21f",
   "metadata": {},
   "outputs": [],
   "source": [
    "def solution(n, costs):    \n",
    "    answer = 0\n",
    "    \n",
    "    costs.sort(key = lambda x:x[2])\n",
    "    node = set([costs[0][0]])\n",
    "    \n",
    "    while len(node) != n:\n",
    "        for n1, n2, weight in costs:\n",
    "            if n1 in node and n2 in node:\n",
    "                continue\n",
    "            if n1 in node or n2 in node:\n",
    "                answer += weight \n",
    "                node.update([n1, n2])\n",
    "                break\n",
    "                \n",
    "    return answer"
   ]
  },
  {
   "cell_type": "markdown",
   "id": "06651191",
   "metadata": {},
   "source": [
    "\n"
   ]
  },
  {
   "cell_type": "markdown",
   "id": "768ca6bc",
   "metadata": {},
   "source": [
    "\n"
   ]
  },
  {
   "cell_type": "code",
   "execution_count": 26,
   "id": "36709517",
   "metadata": {},
   "outputs": [
    {
     "data": {
      "text/plain": [
       "15"
      ]
     },
     "execution_count": 26,
     "metadata": {},
     "output_type": "execute_result"
    }
   ],
   "source": [
    "solution(5, [[0, 1, 5], [1, 2, 3], [2, 3, 3], [3, 1, 2], [3, 0, 4], [2, 4, 6], [4, 0, 7]])"
   ]
  }
 ],
 "metadata": {
  "kernelspec": {
   "display_name": "Python 3 (ipykernel)",
   "language": "python",
   "name": "python3"
  },
  "language_info": {
   "codemirror_mode": {
    "name": "ipython",
    "version": 3
   },
   "file_extension": ".py",
   "mimetype": "text/x-python",
   "name": "python",
   "nbconvert_exporter": "python",
   "pygments_lexer": "ipython3",
   "version": "3.9.7"
  }
 },
 "nbformat": 4,
 "nbformat_minor": 5
}
