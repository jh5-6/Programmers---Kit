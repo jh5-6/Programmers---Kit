{
 "cells": [
  {
   "cell_type": "markdown",
   "id": "4e8fc5b6",
   "metadata": {},
   "source": [
    "# [조이스틱]"
   ]
  },
  {
   "cell_type": "markdown",
   "id": "17aa45a7",
   "metadata": {},
   "source": [
    "\n"
   ]
  },
  {
   "cell_type": "markdown",
   "id": "a7ba6d7b",
   "metadata": {},
   "source": [
    "조이스틱으로 알파벳 이름을 완성하세요. 맨 처음엔 A로만 이루어져 있습니다.\n",
    "\n",
    "    ex) 완성해야 하는 이름이 세 글자면 AAA, 네 글자면 AAAA\n",
    "\n",
    "조이스틱을 각 방향으로 움직이면 아래와 같습니다.\n",
    "\n",
    "    ▲ - 다음 알파벳\n",
    "    ▼ - 이전 알파벳 (A에서 아래쪽으로 이동하면 Z로)\n",
    "    ◀ - 커서를 왼쪽으로 이동 (첫 번째 위치에서 왼쪽으로 이동하면 마지막 문자에 커서)\n",
    "    ▶ - 커서를 오른쪽으로 이동 (마지막 위치에서 오른쪽으로 이동하면 첫 번째 문자에 커서)"
   ]
  },
  {
   "cell_type": "markdown",
   "id": "b80277c6",
   "metadata": {},
   "source": [
    " \n",
    "    "
   ]
  },
  {
   "cell_type": "markdown",
   "id": "25e378ca",
   "metadata": {},
   "source": [
    "\n",
    "예를 들어 아래의 방법으로 \"JAZ\"를 만들 수 있습니다.\n",
    "\n",
    "    - 첫 번째 위치에서 조이스틱을 위로 9번 조작하여 J를 완성합니다.\n",
    "    - 조이스틱을 왼쪽으로 1번 조작하여 커서를 마지막 문자 위치로 이동시킵니다.\n",
    "    - 마지막 위치에서 조이스틱을 아래로 1번 조작하여 Z를 완성합니다.\n",
    "\n",
    "따라서 11번 이동시켜 \"JAZ\"를 만들 수 있고, 이때가 최소 이동입니다.\n",
    "만들고자 하는 이름 name이 매개변수로 주어질 때, 이름에 대해 조이스틱 조작 횟수의 최솟값을 return 하도록 solution 함수를 만드세요."
   ]
  },
  {
   "cell_type": "markdown",
   "id": "7526fa34",
   "metadata": {},
   "source": [
    "\n"
   ]
  },
  {
   "cell_type": "markdown",
   "id": "9ad1ff17",
   "metadata": {},
   "source": [
    "< 제한 사항 >\n",
    "- name은 알파벳 대문자로만 이루어져 있습니다.\n",
    "- name의 길이는 1 이상 20 이하입니다."
   ]
  },
  {
   "cell_type": "markdown",
   "id": "0586205f",
   "metadata": {},
   "source": [
    "\n"
   ]
  },
  {
   "cell_type": "markdown",
   "id": "7db9c528",
   "metadata": {},
   "source": [
    "\n"
   ]
  },
  {
   "attachments": {
    "%EC%BA%A1%EC%B2%98-4.PNG": {
     "image/png": "[encoded data removed]"
    }
   },
   "cell_type": "markdown",
   "id": "45ee16c3",
   "metadata": {},
   "source": [
    "[문제 풀이]\n",
    "\n",
    "최소 조이 스틱의 조작 횟수 = 최소 알파벳 조작 횟수 + 최소 커서 움직임 조작 횟수 \n",
    "\n",
    "\n",
    "\n",
    "    1) 최소 알파벳 조작 횟수    \n",
    "    \n",
    "        case 1. A -> 목표 알파벳까지 조작 횟수 : ord(char) - ord('A')\n",
    "        case 2. Z -> 목표 알파벳까지 조작 횟수 : ord('Z') - ord(char) + 1 \n",
    "        \n",
    "        => 1번과 2번 중 최소 값\n",
    "\n",
    "\n",
    "\n",
    "    2) 커서 조작 횟수\n",
    "    \n",
    "\n",
    "![%EC%BA%A1%EC%B2%98-4.PNG](attachment:%EC%BA%A1%EC%B2%98-4.PNG)\n",
    "\n",
    "\n",
    "\n",
    "        case 1. 오른쪽 방향으로만 이동하는 경우 조작 횟수 : len(name) -1\n",
    "        case 2. 오른쪽 방향으로 이동하다가 왼쪽으로 방향 전환하는 경우 조작 횟수 : idx * 2 + (len(name) - next_idx)\n",
    "        case 3. 왼쪽으로 이동하다가 오른쪽으로 방향 전환하는 경우 조작 횟수 : (len(name) - next_idx) * 2 + idx \n",
    "        \n",
    "        => 1번-3번 중 최소 값\n",
    "        \n",
    "        \n",
    "        \n",
    "        \n"
   ]
  },
  {
   "cell_type": "markdown",
   "id": "30c0d955",
   "metadata": {},
   "source": [
    "\n"
   ]
  },
  {
   "cell_type": "markdown",
   "id": "49c9409e",
   "metadata": {},
   "source": [
    "\n"
   ]
  },
  {
   "cell_type": "markdown",
   "id": "ca1a07cc",
   "metadata": {},
   "source": [
    "Solution "
   ]
  },
  {
   "cell_type": "code",
   "execution_count": 9,
   "id": "e1829607",
   "metadata": {},
   "outputs": [],
   "source": [
    "def solution(name):\n",
    "    \n",
    "    answer = 0\n",
    "    \n",
    "    #커서의 최소 이동 거리 \n",
    "    min_move = len(name) - 1\n",
    "    \n",
    "    for idx, char in enumerate(name):\n",
    "        \n",
    "        # 알파벳 조작 횟수 계산 \n",
    "        answer += min(ord(char) - ord('A'), ord('Z') - ord(char) + 1)\n",
    "        \n",
    "        # 커서 조작 횟수 계산\n",
    "        next_idx = idx + 1 \n",
    "        while (next_idx < len(name)) and (name[next_idx] == 'A'):\n",
    "            next_idx += 1\n",
    "\n",
    "        dist = min((idx * 2 + len(name) - next_idx, (len(name) - next_idx) * 2 + idx))\n",
    "        min_move = min(cnt_move, dist)\n",
    "   \n",
    "    answer += min_move\n",
    "        \n",
    "    return answer"
   ]
  },
  {
   "cell_type": "markdown",
   "id": "fecb4037",
   "metadata": {},
   "source": [
    "\n"
   ]
  },
  {
   "cell_type": "markdown",
   "id": "36ca964e",
   "metadata": {},
   "source": [
    "\n"
   ]
  },
  {
   "cell_type": "code",
   "execution_count": 10,
   "id": "938ebd0f",
   "metadata": {},
   "outputs": [
    {
     "data": {
      "text/plain": [
       "56"
      ]
     },
     "execution_count": 10,
     "metadata": {},
     "output_type": "execute_result"
    }
   ],
   "source": [
    "solution(\"JEROEN\")"
   ]
  }
 ],
 "metadata": {
  "kernelspec": {
   "display_name": "Python 3 (ipykernel)",
   "language": "python",
   "name": "python3"
  },
  "language_info": {
   "codemirror_mode": {
    "name": "ipython",
    "version": 3
   },
   "file_extension": ".py",
   "mimetype": "text/x-python",
   "name": "python",
   "nbconvert_exporter": "python",
   "pygments_lexer": "ipython3",
   "version": "3.9.7"
  }
 },
 "nbformat": 4,
 "nbformat_minor": 5
}
