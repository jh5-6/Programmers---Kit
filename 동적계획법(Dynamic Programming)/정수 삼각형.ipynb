{
 "cells": [
  {
   "cell_type": "markdown",
   "id": "a80c6819",
   "metadata": {},
   "source": [
    "# [정수 삼각형]"
   ]
  },
  {
   "cell_type": "markdown",
   "id": "43058f82",
   "metadata": {},
   "source": [
    "\n"
   ]
  },
  {
   "attachments": {
    "image.png": {
     "image/png": "[encoded data removed]"
    }
   },
   "cell_type": "markdown",
   "id": "11ebe5ae",
   "metadata": {},
   "source": [
    "![image.png](attachment:image.png)\n"
   ]
  },
  {
   "cell_type": "markdown",
   "id": "8d1a3f31",
   "metadata": {},
   "source": [
    "\n"
   ]
  },
  {
   "cell_type": "markdown",
   "id": "436d99dd",
   "metadata": {},
   "source": [
    "\n",
    "위와 같은 삼각형의 꼭대기에서 바닥까지 이어지는 경로 중, 거쳐간 숫자의 합이 가장 큰 경우를 찾아보려고 합니다. 아래 칸으로 이동할 때는 대각선 방향으로 한 칸 오른쪽 또는 왼쪽으로만 이동 가능합니다. 예를 들어 3에서는 그 아래칸의 8 또는 1로만 이동이 가능합니다.\n",
    "\n",
    "삼각형의 정보가 담긴 배열 triangle이 매개변수로 주어질 때, 거쳐간 숫자의 최댓값을 return 하도록 solution 함수를 완성하세요."
   ]
  },
  {
   "cell_type": "markdown",
   "id": "3d6f1260",
   "metadata": {},
   "source": [
    "\n"
   ]
  },
  {
   "cell_type": "markdown",
   "id": "e9d07346",
   "metadata": {},
   "source": [
    "< 제한 사항 >\n",
    "- 삼각형의 높이는 1 이상 500 이하입니다.\n",
    "- 삼각형을 이루고 있는 숫자는 0 이상 9,999 이하의 정수입니다."
   ]
  },
  {
   "cell_type": "markdown",
   "id": "9cc4b967",
   "metadata": {},
   "source": [
    "\n"
   ]
  },
  {
   "cell_type": "markdown",
   "id": "bd305f0e",
   "metadata": {},
   "source": [
    "\n"
   ]
  },
  {
   "cell_type": "markdown",
   "id": "a264ed93",
   "metadata": {},
   "source": [
    "Solution 1 꼭대기 -> 바닥"
   ]
  },
  {
   "cell_type": "code",
   "execution_count": 38,
   "id": "f610f968",
   "metadata": {},
   "outputs": [],
   "source": [
    "def solution(triangle):\n",
    "    \n",
    "    for i in range(1, len(triangle)):\n",
    "        for j in range(len(triangle[i])):\n",
    "            if j == 0:\n",
    "                triangle[i][j] += triangle[i-1][j] \n",
    "                \n",
    "            elif j == len(triangle[i])-1 :\n",
    "                triangle[i][j] += triangle[i-1][j-1]\n",
    "                \n",
    "            else :\n",
    "                triangle[i][j] += max(triangle[i-1][j-1], triangle[i-1][j])\n",
    "        \n",
    "\n",
    "    return max(triangle[len(triangle)-1])"
   ]
  },
  {
   "cell_type": "markdown",
   "id": "17ee51d0",
   "metadata": {},
   "source": [
    "\n"
   ]
  },
  {
   "cell_type": "markdown",
   "id": "0682787b",
   "metadata": {},
   "source": [
    "\n"
   ]
  },
  {
   "cell_type": "markdown",
   "id": "51437ba5",
   "metadata": {},
   "source": [
    "Solution 2 바닥 -> 꼭대기 (삼각형을 뒤집어 문제 풀이)"
   ]
  },
  {
   "cell_type": "code",
   "execution_count": 42,
   "id": "ff5d9439",
   "metadata": {},
   "outputs": [],
   "source": [
    "def solution(triangle):\n",
    "\n",
    "    triangle.reverse()\n",
    "\n",
    "    for i in range(1, len(triangle)):\n",
    "        for j in range(len(triangle[i])):\n",
    "            triangle[i][j] += max(triangle[i-1][j], triangle[i-1][j+1]) \n",
    "    \n",
    "    triangle.reverse() \n",
    "    \n",
    "    return triangle[0][0]"
   ]
  },
  {
   "cell_type": "markdown",
   "id": "8a739589",
   "metadata": {},
   "source": [
    "\n"
   ]
  },
  {
   "cell_type": "markdown",
   "id": "48ca2f16",
   "metadata": {},
   "source": [
    "\n"
   ]
  },
  {
   "cell_type": "code",
   "execution_count": 41,
   "id": "b7cb6e8e",
   "metadata": {},
   "outputs": [
    {
     "data": {
      "text/plain": [
       "30"
      ]
     },
     "execution_count": 41,
     "metadata": {},
     "output_type": "execute_result"
    }
   ],
   "source": [
    "solution([[7], [3, 8], [8, 1, 0], [2, 7, 4, 4], [4, 5, 2, 6, 5]])"
   ]
  }
 ],
 "metadata": {
  "kernelspec": {
   "display_name": "Python 3 (ipykernel)",
   "language": "python",
   "name": "python3"
  },
  "language_info": {
   "codemirror_mode": {
    "name": "ipython",
    "version": 3
   },
   "file_extension": ".py",
   "mimetype": "text/x-python",
   "name": "python",
   "nbconvert_exporter": "python",
   "pygments_lexer": "ipython3",
   "version": "3.9.7"
  }
 },
 "nbformat": 4,
 "nbformat_minor": 5
}
