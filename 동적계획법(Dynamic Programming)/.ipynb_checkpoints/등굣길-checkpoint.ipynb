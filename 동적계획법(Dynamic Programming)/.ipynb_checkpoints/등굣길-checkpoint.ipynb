{
 "cells": [
  {
   "cell_type": "markdown",
   "id": "f6eecd4c",
   "metadata": {},
   "source": [
    "# [등굣길]"
   ]
  },
  {
   "cell_type": "markdown",
   "id": "993dac64",
   "metadata": {},
   "source": [
    "\n"
   ]
  },
  {
   "attachments": {
    "image.png": {
     "image/png": "[encoded data removed]"
    }
   },
   "cell_type": "markdown",
   "id": "51059cd0",
   "metadata": {},
   "source": [
    "계속되는 폭우로 일부 지역이 물에 잠겼습니다. 물에 잠기지 않은 지역을 통해 학교를 가려고 합니다. 집에서 학교까지 가는 길은 m x n 크기의 격자모양으로 나타낼 수 있습니다.\n",
    "\n",
    "아래 그림은 m = 4, n = 3 인 경우입니다.\n",
    "\n",
    "![image.png](attachment:image.png)\n",
    "\n",
    "가장 왼쪽 위, 즉 집이 있는 곳의 좌표는 (1, 1)로 나타내고 가장 오른쪽 아래, 즉 학교가 있는 곳의 좌표는 (m, n)으로 나타냅니다.\n",
    "\n",
    "격자의 크기 m, n과 물이 잠긴 지역의 좌표를 담은 2차원 배열 puddles이 매개변수로 주어집니다. 오른쪽과 아래쪽으로만 움직여 집에서 학교까지 갈 수 있는 최단경로의 개수를 1,000,000,007로 나눈 나머지를 return 하도록 solution 함수를 작성해주세요.\n"
   ]
  },
  {
   "cell_type": "markdown",
   "id": "e1aba0b4",
   "metadata": {},
   "source": [
    "\n"
   ]
  },
  {
   "cell_type": "markdown",
   "id": "5351dbee",
   "metadata": {},
   "source": [
    "< 제한사항 >\n",
    "- 격자의 크기 m, n은 1 이상 100 이하인 자연수입니다.\n",
    "- m과 n이 모두 1인 경우는 입력으로 주어지지 않습니다.\n",
    "- 물에 잠긴 지역은 0개 이상 10개 이하입니다.\n",
    "- 집과 학교가 물에 잠긴 경우는 입력으로 주어지지 않습니다."
   ]
  },
  {
   "cell_type": "markdown",
   "id": "7519b44d",
   "metadata": {},
   "source": [
    "\n"
   ]
  },
  {
   "cell_type": "markdown",
   "id": "e72dede3",
   "metadata": {},
   "source": [
    "\n"
   ]
  },
  {
   "cell_type": "markdown",
   "id": "d9b82c93",
   "metadata": {},
   "source": [
    "[TIP]\n",
    "* 주의사항)\n",
    "물이 잠긴 지역의 좌표 -> (열, 행) 순서 "
   ]
  },
  {
   "cell_type": "markdown",
   "id": "67603024",
   "metadata": {},
   "source": [
    "\n"
   ]
  },
  {
   "cell_type": "markdown",
   "id": "864c803d",
   "metadata": {},
   "source": [
    "\n"
   ]
  },
  {
   "cell_type": "markdown",
   "id": "758e0880",
   "metadata": {},
   "source": [
    "Solution"
   ]
  },
  {
   "cell_type": "code",
   "execution_count": 65,
   "id": "a36b25b0",
   "metadata": {},
   "outputs": [],
   "source": [
    "def solution(m, n, puddles):   \n",
    "    \n",
    "    answer = [[0]*(m+1) for i in range(n+1)]\n",
    "\n",
    "    #i:행 j:열\n",
    "    for i in range(1, n+1):\n",
    "        for j in range(1, m+1):           \n",
    "            if i==1 and j ==1 :\n",
    "                answer[i][j] = 1             \n",
    "            elif [j, i] not in puddles :\n",
    "                answer[i][j] = answer[i-1][j] + answer[i][j-1]\n",
    "\n",
    "    return answer[n][m] % 1000000007"
   ]
  },
  {
   "cell_type": "markdown",
   "id": "5b15fbc0",
   "metadata": {},
   "source": [
    "\n"
   ]
  },
  {
   "cell_type": "markdown",
   "id": "8c34552d",
   "metadata": {},
   "source": [
    "\n"
   ]
  },
  {
   "cell_type": "code",
   "execution_count": 66,
   "id": "5ea54d85",
   "metadata": {},
   "outputs": [
    {
     "data": {
      "text/plain": [
       "4"
      ]
     },
     "execution_count": 66,
     "metadata": {},
     "output_type": "execute_result"
    }
   ],
   "source": [
    "solution(4, 3, [[2,2]])"
   ]
  }
 ],
 "metadata": {
  "kernelspec": {
   "display_name": "Python 3 (ipykernel)",
   "language": "python",
   "name": "python3"
  },
  "language_info": {
   "codemirror_mode": {
    "name": "ipython",
    "version": 3
   },
   "file_extension": ".py",
   "mimetype": "text/x-python",
   "name": "python",
   "nbconvert_exporter": "python",
   "pygments_lexer": "ipython3",
   "version": "3.9.7"
  }
 },
 "nbformat": 4,
 "nbformat_minor": 5
}
