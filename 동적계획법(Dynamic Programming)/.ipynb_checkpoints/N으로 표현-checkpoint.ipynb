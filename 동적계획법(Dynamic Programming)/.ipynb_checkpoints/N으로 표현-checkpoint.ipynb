{
 "cells": [
  {
   "cell_type": "markdown",
   "id": "2ddf809f",
   "metadata": {},
   "source": [
    "# [N으로 표현]"
   ]
  },
  {
   "cell_type": "markdown",
   "id": "ebcdae3a",
   "metadata": {},
   "source": [
    "\n"
   ]
  },
  {
   "cell_type": "markdown",
   "id": "ed2885ab",
   "metadata": {},
   "source": [
    "아래와 같이 5와 사칙연산만으로 12를 표현할 수 있습니다.\n",
    "\n",
    "12 = 5 + 5 + (5 / 5) + (5 / 5)\n",
    "12 = 55 / 5 + 5 / 5\n",
    "12 = (55 + 5) / 5\n",
    "\n",
    "5를 사용한 횟수는 각각 6,5,4 입니다. 그리고 이중 가장 작은 경우는 4입니다.\n",
    "이처럼 숫자 N과 number가 주어질 때, N과 사칙연산만 사용해서 표현 할 수 있는 방법 중 N 사용횟수의 최솟값을 return 하도록 solution 함수를 작성하세요.\n"
   ]
  },
  {
   "cell_type": "markdown",
   "id": "fcc2a8ba",
   "metadata": {},
   "source": [
    "\n"
   ]
  },
  {
   "cell_type": "markdown",
   "id": "2c232dc8",
   "metadata": {},
   "source": [
    "< 제한사항 >\n",
    "- N은 1 이상 9 이하입니다.\n",
    "- number는 1 이상 32,000 이하입니다.\n",
    "- 수식에는 괄호와 사칙연산만 가능하며 나누기 연산에서 나머지는 무시합니다.\n",
    "- 최솟값이 8보다 크면 -1을 return 합니다."
   ]
  },
  {
   "cell_type": "markdown",
   "id": "d10e3c95",
   "metadata": {},
   "source": [
    "\n"
   ]
  },
  {
   "cell_type": "markdown",
   "id": "65da95aa",
   "metadata": {},
   "source": [
    "\n"
   ]
  },
  {
   "cell_type": "markdown",
   "id": "4d2b4cc1",
   "metadata": {},
   "source": [
    "[문제 풀이 접근]"
   ]
  },
  {
   "cell_type": "markdown",
   "id": "c7f4ba69",
   "metadata": {},
   "source": [
    "N = 5인 경우\n",
    "\n",
    "1. N 1개로 만들 수 있는 수 : 5\n",
    "\n",
    "2. N 2개로 만들 수 있는 수 : 55 \n",
    "                             5+5 | 5-5 | 5*5 | 5//5\n",
    "\n",
    "3. N 3개로 만들 수 있는 수 : 555 \n",
    "                             5+5 | 55-5 | 55*5 | 55//5 | 5-55 | 5//5\n",
    "                             \n",
    "4. N 4개로 만들 수 있는 수 : 55555 \n",
    "                             55+55 | 55-55 | 55*55 | 55//55 | 55-55 | 55//55\n",
    "                             555+5 | 555-5 | 555*5 | 555//5 | 5-555 | 5//555\n",
    "\n",
    "                             \n",
    "    \n"
   ]
  },
  {
   "cell_type": "markdown",
   "id": "45a37d09",
   "metadata": {},
   "source": [
    "\n"
   ]
  },
  {
   "cell_type": "markdown",
   "id": "f0624767",
   "metadata": {},
   "source": [
    "=> N이 k개일 때 만들 수 있는 수 \n",
    "\n",
    "    N이 1개일 때 만들 수 있는 수 (사칙 연산) N이 k-1개일 때 만들 수 있는 수\n",
    "    N이 2개일 때 만들 수 있는 수 (사칙 연산) N이 k-2개일 때 만들 수 있는 수\n",
    "    .\n",
    "    .\n",
    "    .\n",
    "    N이 (k//2 + 1)개일 때 만들 수 있는 수 (사칙 연산) N이 (k//2 -1)개일 때 만들 수 있는 수"
   ]
  },
  {
   "cell_type": "markdown",
   "id": "1ef7bd2e",
   "metadata": {},
   "source": [
    "\n"
   ]
  },
  {
   "cell_type": "markdown",
   "id": "b47e1e21",
   "metadata": {},
   "source": [
    "Solution"
   ]
  },
  {
   "cell_type": "code",
   "execution_count": null,
   "id": "9c2f1965",
   "metadata": {},
   "outputs": [],
   "source": [
    "def solution(N, number):\n",
    "    \n",
    "    if N == number:\n",
    "        return 1\n",
    "     \n",
    "    #N이 k개일 때 만들 수 있는 수를 담은 배열\n",
    "    dp = [0, [N]]   \n",
    "    \n",
    "    for i in range(2, 9):\n",
    "        tmp = []\n",
    "        tmp.append(int(str(N)*i))     # ex) i = 2, N=5 인 경우 => 55\n",
    "        \n",
    "        for j in range(1, i//2+1):\n",
    "            for x in dp[j]:\n",
    "                for y in dp[i-j]:\n",
    "                    tmp.append(x+y)\n",
    "                    tmp.append(x-y)\n",
    "                    tmp.append(y-x)\n",
    "                    tmp.append(x*y)\n",
    "                    if y != 0:\n",
    "                        tmp.append(x//y)\n",
    "                    if x != 0:\n",
    "                        tmp.append(y//x)\n",
    "        if number in tmp :\n",
    "            return i\n",
    "        \n",
    "        dp.append(tmp)\n",
    "        \n",
    "    return -1"
   ]
  },
  {
   "cell_type": "markdown",
   "id": "713fb117",
   "metadata": {},
   "source": [
    "\n"
   ]
  },
  {
   "cell_type": "markdown",
   "id": "1b0000db",
   "metadata": {},
   "source": [
    "\n"
   ]
  },
  {
   "cell_type": "code",
   "execution_count": 14,
   "id": "e6d76b5a",
   "metadata": {},
   "outputs": [
    {
     "data": {
      "text/plain": [
       "4"
      ]
     },
     "execution_count": 14,
     "metadata": {},
     "output_type": "execute_result"
    }
   ],
   "source": [
    "solution(5, 12)"
   ]
  }
 ],
 "metadata": {
  "kernelspec": {
   "display_name": "Python 3 (ipykernel)",
   "language": "python",
   "name": "python3"
  },
  "language_info": {
   "codemirror_mode": {
    "name": "ipython",
    "version": 3
   },
   "file_extension": ".py",
   "mimetype": "text/x-python",
   "name": "python",
   "nbconvert_exporter": "python",
   "pygments_lexer": "ipython3",
   "version": "3.9.7"
  }
 },
 "nbformat": 4,
 "nbformat_minor": 5
}
