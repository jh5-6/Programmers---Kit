{
 "cells": [
  {
   "cell_type": "markdown",
   "id": "30f1dcd3",
   "metadata": {},
   "source": [
    "# 문제해결 아이디어 "
   ]
  },
  {
   "cell_type": "markdown",
   "id": "9a4a638c",
   "metadata": {},
   "source": [
    "h가 될 수 있는 값의 범위 range(len(citations)) == 배열의 인덱스 범위"
   ]
  },
  {
   "cell_type": "markdown",
   "id": "bbd87e16",
   "metadata": {},
   "source": [
    "내림차순 정렬\n",
    "    \n",
    "    n(인용 횟수)                : 점차 감소 (우 하향)  == citations[index] \n",
    "    p(n번 이상 인용된 논문 수)  : n과 반비례(우 상향)  == citations의 index\n",
    "        \n",
    "=> (n <= p) 조건을 만족하는 h-index 후보 중 최댓값은 처음으로 조건을 만족하는 경우의 index값"
   ]
  },
  {
   "cell_type": "markdown",
   "id": "2cf707f2",
   "metadata": {},
   "source": [
    "예외 상황) [44, 22]와 같이 위의 조건을 만족하지 않는 경우  \n",
    "    \n",
    "       h = 해당 배열의 원소 수"
   ]
  },
  {
   "cell_type": "markdown",
   "id": "c96a8dee",
   "metadata": {},
   "source": [
    "# solution 1"
   ]
  },
  {
   "cell_type": "code",
   "execution_count": 1,
   "id": "7f827c3e",
   "metadata": {},
   "outputs": [],
   "source": [
    "def solution(citations):\n",
    "    \n",
    "    answer = 0\n",
    "    sorted_arr = sorted(citations, reverse = True)\n",
    "    \n",
    "    for idx in range(len(sorted_arr)):\n",
    "        num = sorted_arr[idx]\n",
    "        if num <= (sorted_arr.index(num) + 1):\n",
    "            return max(num, sorted_arr.index(num)) \n",
    "        \n",
    "    if answer == 0 and min(sorted_arr) > 0:\n",
    "        answer = len(sorted_arr)\n",
    "        \n",
    "    return len(sorted_arr)"
   ]
  },
  {
   "cell_type": "markdown",
   "id": "a427784b",
   "metadata": {},
   "source": [
    "# solution 1 개선 "
   ]
  },
  {
   "cell_type": "code",
   "execution_count": 2,
   "id": "57fc4c51",
   "metadata": {},
   "outputs": [],
   "source": [
    "def solution(citations):\n",
    "\n",
    "    sorted_arr = sorted(citations, reverse = True)\n",
    "    \n",
    "    for idx in range(len(sorted_arr)):\n",
    "        num = sorted_arr[idx]\n",
    "        if num <= idx:\n",
    "            return idx\n",
    "        \n",
    "    return len(sorted_arr)"
   ]
  },
  {
   "cell_type": "code",
   "execution_count": 3,
   "id": "ade25808",
   "metadata": {},
   "outputs": [
    {
     "data": {
      "text/plain": [
       "3"
      ]
     },
     "execution_count": 3,
     "metadata": {},
     "output_type": "execute_result"
    }
   ],
   "source": [
    "solution([3, 0, 6, 1, 4])"
   ]
  }
 ],
 "metadata": {
  "kernelspec": {
   "display_name": "Python 3 (ipykernel)",
   "language": "python",
   "name": "python3"
  },
  "language_info": {
   "codemirror_mode": {
    "name": "ipython",
    "version": 3
   },
   "file_extension": ".py",
   "mimetype": "text/x-python",
   "name": "python",
   "nbconvert_exporter": "python",
   "pygments_lexer": "ipython3",
   "version": "3.9.7"
  }
 },
 "nbformat": 4,
 "nbformat_minor": 5
}
