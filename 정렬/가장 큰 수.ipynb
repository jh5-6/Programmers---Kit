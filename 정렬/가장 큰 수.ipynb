{
 "cells": [
  {
   "cell_type": "markdown",
   "id": "0597b7e2",
   "metadata": {},
   "source": [
    "# solution"
   ]
  },
  {
   "cell_type": "code",
   "execution_count": 3,
   "id": "845fb699",
   "metadata": {},
   "outputs": [],
   "source": [
    "import functools\n",
    "\n",
    "def solution(numbers):\n",
    "    answer = ''\n",
    "    \n",
    "    num_str_list = [] \n",
    "    for i in range(len(numbers)):\n",
    "        num_str_list.append(str(numbers[i]))\n",
    "  \n",
    "    sort_num = sorted(num_str_list, key=functools.cmp_to_key(cmp), reverse = True)\n",
    "    answer = str(int(\"\".join(sort_num)))\n",
    "\n",
    "    return answer\n",
    "\n",
    "def cmp(x, y):\n",
    "    t1 = x + y\n",
    "    t2 = y + x\n",
    "\n",
    "    return int(t1) - int(t2)\n",
    "    "
   ]
  },
  {
   "cell_type": "markdown",
   "id": "d15370ef",
   "metadata": {},
   "source": [
    "# 개선된 solution"
   ]
  },
  {
   "cell_type": "code",
   "execution_count": 4,
   "id": "c1b03922",
   "metadata": {},
   "outputs": [],
   "source": [
    "import functools\n",
    "\n",
    "def solution(numbers):\n",
    "    answer = ''\n",
    "\n",
    "    num_str_list = list(map(str, numbers))        \n",
    "    sort_num = sorted(num_str_list, key=functools.cmp_to_key(cmp), reverse = True)\n",
    "    answer = str(int(\"\".join(sort_num)))\n",
    "\n",
    "    return answer\n",
    "\n",
    "def cmp(x, y):\n",
    "    t1 = x + y\n",
    "    t2 = y + x\n",
    "\n",
    "    return int(t1) - int(t2)"
   ]
  }
 ],
 "metadata": {
  "kernelspec": {
   "display_name": "Python 3 (ipykernel)",
   "language": "python",
   "name": "python3"
  },
  "language_info": {
   "codemirror_mode": {
    "name": "ipython",
    "version": 3
   },
   "file_extension": ".py",
   "mimetype": "text/x-python",
   "name": "python",
   "nbconvert_exporter": "python",
   "pygments_lexer": "ipython3",
   "version": "3.9.7"
  }
 },
 "nbformat": 4,
 "nbformat_minor": 5
}
