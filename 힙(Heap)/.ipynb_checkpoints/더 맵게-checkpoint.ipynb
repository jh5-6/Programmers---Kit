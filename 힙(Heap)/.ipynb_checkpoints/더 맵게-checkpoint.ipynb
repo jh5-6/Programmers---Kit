{
 "cells": [
  {
   "cell_type": "markdown",
   "id": "0a7f5dcc",
   "metadata": {},
   "source": [
    "# [더 맵게]"
   ]
  },
  {
   "cell_type": "markdown",
   "id": "246d12d7",
   "metadata": {},
   "source": [
    "\n"
   ]
  },
  {
   "cell_type": "markdown",
   "id": "d94e9bd9",
   "metadata": {},
   "source": [
    "\n"
   ]
  },
  {
   "cell_type": "markdown",
   "id": "1efc0713",
   "metadata": {},
   "source": [
    "매운 것을 좋아하는 Leo는 모든 음식의 스코빌 지수를 K 이상으로 만들고 싶습니다. 모든 음식의 스코빌 지수를 K 이상으로 만들기 위해 Leo는 스코빌 지수가 가장 낮은 두 개의 음식을 아래와 같이 특별한 방법으로 섞어 새로운 음식을 만듭니다.\n",
    "\n",
    "    섞은 음식의 스코빌 지수 = 가장 맵지 않은 음식의 스코빌 지수 + (두 번째로 맵지 않은 음식의 스코빌 지수 * 2)\n",
    "\n",
    "Leo는 모든 음식의 스코빌 지수가 K 이상이 될 때까지 반복하여 섞습니다.\n",
    "Leo가 가진 음식의 스코빌 지수를 담은 배열 scoville과 원하는 스코빌 지수 K가 주어질 때, 모든 음식의 스코빌 지수를 K 이상으로 만들기 위해 섞어야 하는 최소 횟수를 return 하도록 solution 함수를 작성해주세요.\n",
    "\n"
   ]
  },
  {
   "cell_type": "markdown",
   "id": "111d01d0",
   "metadata": {},
   "source": [
    "    <제한 사항>\n",
    "    1. scoville의 길이는 2 이상 1,000,000 이하입니다.\n",
    "    2. K는 0 이상 1,000,000,000 이하입니다.\n",
    "    3. scoville의 원소는 각각 0 이상 1,000,000 이하입니다.\n",
    "    4. 모든 음식의 스코빌 지수를 K 이상으로 만들 수 없는 경우에는 -1을 return 합니다."
   ]
  },
  {
   "cell_type": "markdown",
   "id": "34560c44",
   "metadata": {},
   "source": [
    "\n"
   ]
  },
  {
   "cell_type": "markdown",
   "id": "0474f551",
   "metadata": {},
   "source": [
    "\n"
   ]
  },
  {
   "cell_type": "markdown",
   "id": "473c3385",
   "metadata": {},
   "source": [
    "[TIP]  \n",
    "- heapq : 최소 힙 구현만 가능 \n",
    "    \n",
    "    - heapq.heapify() : 기존 리스트를 힙으로 변환 \n",
    "    - heapq.heappush() : 힙에 원소 추가 \n",
    "    - heapq.heappop() : 힙에서 원소 삭제 "
   ]
  },
  {
   "cell_type": "markdown",
   "id": "ab461b5b",
   "metadata": {},
   "source": [
    "\n"
   ]
  },
  {
   "cell_type": "markdown",
   "id": "c48ee0dc",
   "metadata": {},
   "source": [
    "\n"
   ]
  },
  {
   "cell_type": "markdown",
   "id": "0cc326df",
   "metadata": {},
   "source": [
    "Solution 1 효율성 테스트에서 모두 시간초과 "
   ]
  },
  {
   "cell_type": "code",
   "execution_count": 67,
   "id": "c48214fb",
   "metadata": {},
   "outputs": [],
   "source": [
    "def solution(scoville, K):\n",
    "    \n",
    "    count = 0    \n",
    "    while True:\n",
    "        m1 = min(scoville)\n",
    "        scoville.remove(m1)\n",
    "        \n",
    "        if m1 >= K :\n",
    "            break \n",
    "            \n",
    "        if len(scoville) == 0:\n",
    "            return -1\n",
    "        \n",
    "        m2 = min(scoville)\n",
    "        scoville.remove(m2)\n",
    "        \n",
    "        mix = m1 + (m2 * 2)\n",
    "        \n",
    "        scoville.append(mix)\n",
    "        count = count + 1\n",
    "        \n",
    "    return count"
   ]
  },
  {
   "cell_type": "markdown",
   "id": "b0e77ae4",
   "metadata": {},
   "source": [
    "\n",
    "\n"
   ]
  },
  {
   "cell_type": "markdown",
   "id": "436a6f3b",
   "metadata": {},
   "source": [
    "Solution 2 Heap 활용해 문제 풀이 "
   ]
  },
  {
   "cell_type": "code",
   "execution_count": 65,
   "id": "cd4f5639",
   "metadata": {},
   "outputs": [],
   "source": [
    "import heapq\n",
    "\n",
    "def solution(scoville, K):\n",
    "    \n",
    "    count = 0\n",
    "    \n",
    "    s_heap = scoville\n",
    "    heapq.heapify(s_heap)\n",
    " \n",
    "    while True :\n",
    "        m1 = heapq.heappop(s_heap)\n",
    "        \n",
    "        if m1 >= K :\n",
    "            break \n",
    "            \n",
    "        if len(s_heap) == 0:\n",
    "            return -1\n",
    "        \n",
    "        m2 = heapq.heappop(s_heap)\n",
    "        \n",
    "        mix = m1 + m2 * 2\n",
    "        heapq.heappush(s_heap, mix)\n",
    "        \n",
    "        count = count + 1 \n",
    "\n",
    "    return count"
   ]
  },
  {
   "cell_type": "markdown",
   "id": "c3176902",
   "metadata": {},
   "source": [
    "\n",
    "\n"
   ]
  },
  {
   "cell_type": "markdown",
   "id": "9e8995dc",
   "metadata": {},
   "source": [
    "\n",
    "\n"
   ]
  },
  {
   "cell_type": "code",
   "execution_count": 66,
   "id": "9d10daf7",
   "metadata": {},
   "outputs": [
    {
     "data": {
      "text/plain": [
       "2"
      ]
     },
     "execution_count": 66,
     "metadata": {},
     "output_type": "execute_result"
    }
   ],
   "source": [
    "solution([1,2,3,9,10,12], 7)"
   ]
  }
 ],
 "metadata": {
  "kernelspec": {
   "display_name": "Python 3 (ipykernel)",
   "language": "python",
   "name": "python3"
  },
  "language_info": {
   "codemirror_mode": {
    "name": "ipython",
    "version": 3
   },
   "file_extension": ".py",
   "mimetype": "text/x-python",
   "name": "python",
   "nbconvert_exporter": "python",
   "pygments_lexer": "ipython3",
   "version": "3.9.7"
  }
 },
 "nbformat": 4,
 "nbformat_minor": 5
}
