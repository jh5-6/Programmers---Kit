{
 "cells": [
  {
   "cell_type": "markdown",
   "id": "456a30a9",
   "metadata": {},
   "source": [
    "# [이중우선순위큐]"
   ]
  },
  {
   "cell_type": "markdown",
   "id": "8d20f12f",
   "metadata": {},
   "source": [
    "\n"
   ]
  },
  {
   "cell_type": "markdown",
   "id": "f2f75af7",
   "metadata": {},
   "source": [
    "\n"
   ]
  },
  {
   "cell_type": "markdown",
   "id": "5664fe09",
   "metadata": {},
   "source": [
    "이중 우선순위 큐는 다음 연산을 할 수 있는 자료구조를 말합니다.\n",
    "\n",
    "    명령어\t   수신 탑(높이)\n",
    "    I 숫자\t큐에 주어진 숫자를 삽입합니다.\n",
    "    D 1\t      큐에서 최댓값을 삭제합니다.\n",
    "    D -1\t  큐에서 최솟값을 삭제합니다.\n",
    "    \n",
    "이중 우선순위 큐가 할 연산 operations가 매개변수로 주어질 때, 모든 연산을 처리한 후 큐가 비어있으면 [0,0] 비어있지 않으면 [최댓값, 최솟값]을 return 하도록 solution 함수를 구현해주세요.\n"
   ]
  },
  {
   "cell_type": "markdown",
   "id": "8bf49056",
   "metadata": {},
   "source": [
    "    <제한사항>\n",
    "    1. operations는 길이가 1 이상 1,000,000 이하인 문자열 배열입니다.\n",
    "    2. operations의 원소는 큐가 수행할 연산을 나타냅니다.\n",
    "    3. 원소는 “명령어 데이터” 형식으로 주어집니다.- 최댓값/최솟값을 삭제하는 연산에서 최댓값/최솟값이 둘 이상인 경우, 하나만 삭제합니다.\n",
    "    4. 빈 큐에 데이터를 삭제하라는 연산이 주어질 경우, 해당 연산은 무시합니다."
   ]
  },
  {
   "cell_type": "markdown",
   "id": "1bc47348",
   "metadata": {},
   "source": [
    "\n"
   ]
  },
  {
   "cell_type": "markdown",
   "id": "3a028cfa",
   "metadata": {},
   "source": [
    "\n"
   ]
  },
  {
   "cell_type": "markdown",
   "id": "5ceb4f14",
   "metadata": {},
   "source": [
    "[TIP] \n",
    "- heapq를 최대힙으로 활용 \n",
    ": 각 값에 대한 우선 순위를 구한 후, (우선 순위, 값) 구조의 튜플(tuple)을 힙에 추가하거나 삭제 \n",
    "- 숫자가 클수록 우선 순위가 높아야 하므로 \n",
    ": heapq.heappush(max_heap, (-num,num))"
   ]
  },
  {
   "cell_type": "markdown",
   "id": "9ff0fcee",
   "metadata": {},
   "source": [
    "\n"
   ]
  },
  {
   "cell_type": "markdown",
   "id": "614185e4",
   "metadata": {},
   "source": [
    "\n"
   ]
  },
  {
   "cell_type": "markdown",
   "id": "576d0be3",
   "metadata": {},
   "source": [
    "Solution 1 heapq 활용해 문제 풀이 "
   ]
  },
  {
   "cell_type": "code",
   "execution_count": 191,
   "id": "2cad0a16",
   "metadata": {},
   "outputs": [],
   "source": [
    "import heapq \n",
    "\n",
    "def solution(operations):\n",
    "    \n",
    "    m_heap = []\n",
    "    M_heap = []\n",
    "    \n",
    "    for op in operations:     \n",
    "        command, num = op.split(\" \")\n",
    "        num = int(num)\n",
    "\n",
    "        if command == \"I\":\n",
    "            heapq.heappush(m_heap, num)\n",
    "            heapq.heappush(M_heap, (-num,num))\n",
    "\n",
    "        else:\n",
    "            if len(m_heap) > 0:\n",
    "                if num == 1:\n",
    "                    item = heapq.heappop(M_heap)\n",
    "                    m_heap.remove(item[1])\n",
    "\n",
    "                elif num == -1:\n",
    "                    item = heapq.heappop(m_heap)\n",
    "                    M_heap.remove((-item, item))\n",
    "\n",
    "    if len(m_heap) > 0 :\n",
    "        return [M_heap[0][1], m_heap[0]]\n",
    "    \n",
    "    return [0, 0]\n"
   ]
  },
  {
   "cell_type": "code",
   "execution_count": 193,
   "id": "7706a9b8",
   "metadata": {},
   "outputs": [
    {
     "data": {
      "text/plain": [
       "[7, 5]"
      ]
     },
     "execution_count": 193,
     "metadata": {},
     "output_type": "execute_result"
    }
   ],
   "source": [
    "solution([\"I 7\",\"I 5\",\"I -5\",\"D -1\"])"
   ]
  }
 ],
 "metadata": {
  "kernelspec": {
   "display_name": "Python 3 (ipykernel)",
   "language": "python",
   "name": "python3"
  },
  "language_info": {
   "codemirror_mode": {
    "name": "ipython",
    "version": 3
   },
   "file_extension": ".py",
   "mimetype": "text/x-python",
   "name": "python",
   "nbconvert_exporter": "python",
   "pygments_lexer": "ipython3",
   "version": "3.9.7"
  }
 },
 "nbformat": 4,
 "nbformat_minor": 5
}
