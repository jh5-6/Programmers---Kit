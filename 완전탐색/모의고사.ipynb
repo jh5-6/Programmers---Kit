{
 "cells": [
  {
   "cell_type": "markdown",
   "id": "295de908",
   "metadata": {},
   "source": [
    "# [모의고사]"
   ]
  },
  {
   "cell_type": "markdown",
   "id": "701bcf61",
   "metadata": {},
   "source": [
    "\n"
   ]
  },
  {
   "cell_type": "markdown",
   "id": "bff0d0a4",
   "metadata": {},
   "source": [
    "\n"
   ]
  },
  {
   "cell_type": "markdown",
   "id": "9cbd4f13",
   "metadata": {},
   "source": [
    "수포자는 수학을 포기한 사람의 준말입니다. 수포자 삼인방은 모의고사에 수학 문제를 전부 찍으려 합니다. 수포자는 1번 문제부터 마지막 문제까지 다음과 같이 찍습니다.\n",
    "\n",
    "    1번 수포자가 찍는 방식: 1, 2, 3, 4, 5, 1, 2, 3, 4, 5, ...\n",
    "    2번 수포자가 찍는 방식: 2, 1, 2, 3, 2, 4, 2, 5, 2, 1, 2, 3, 2, 4, 2, 5, ...\n",
    "    3번 수포자가 찍는 방식: 3, 3, 1, 1, 2, 2, 4, 4, 5, 5, 3, 3, 1, 1, 2, 2, 4, 4, 5, 5, ...\n",
    "\n",
    "1번 문제부터 마지막 문제까지의 정답이 순서대로 들은 배열 answers가 주어졌을 때, 가장 많은 문제를 맞힌 사람이 누구인지 배열에 담아 return 하도록 solution 함수를 작성해주세요.\n"
   ]
  },
  {
   "cell_type": "markdown",
   "id": "339955a0",
   "metadata": {},
   "source": [
    "\n"
   ]
  },
  {
   "cell_type": "markdown",
   "id": "c44a2d42",
   "metadata": {},
   "source": [
    "\n",
    "\n",
    "    [제한 조건]\n",
    "    - 시험은 최대 10,000 문제로 구성되어있습니다.\n",
    "    - 문제의 정답은 1, 2, 3, 4, 5중 하나입니다.\n",
    "    - 가장 높은 점수를 받은 사람이 여럿일 경우, return하는 값을 오름차순 정렬해주세요."
   ]
  },
  {
   "cell_type": "markdown",
   "id": "9c53f995",
   "metadata": {},
   "source": [
    "\n"
   ]
  },
  {
   "cell_type": "markdown",
   "id": "38ab5a2a",
   "metadata": {},
   "source": [
    "\n"
   ]
  },
  {
   "cell_type": "markdown",
   "id": "ce81e29a",
   "metadata": {},
   "source": [
    "Solution 1"
   ]
  },
  {
   "cell_type": "code",
   "execution_count": 16,
   "id": "5441885d",
   "metadata": {},
   "outputs": [],
   "source": [
    "def solution(answers):\n",
    " \n",
    "    s = [[1, 2, 3, 4, 5], [2, 1, 2, 3, 2, 4, 2, 5], [3, 3, 1, 1, 2, 2, 4, 4, 5, 5]]\n",
    "    counts = [0, 0, 0]\n",
    "    \n",
    "    for i in range(len(answers)):\n",
    "        for j in range(3):\n",
    "            if answers[i] == s[j][i%len(s[j])]:\n",
    "                counts[j] = counts[j] + 1\n",
    "                \n",
    "    max_score = max(counts)\n",
    "    \n",
    "    return [i+1 for i in range(len(counts)) if counts[i] == max_score]"
   ]
  },
  {
   "cell_type": "markdown",
   "id": "5db1e082",
   "metadata": {},
   "source": [
    "\n"
   ]
  },
  {
   "cell_type": "markdown",
   "id": "ab68f4d9",
   "metadata": {},
   "source": [
    "\n"
   ]
  },
  {
   "cell_type": "markdown",
   "id": "4a8e730b",
   "metadata": {},
   "source": [
    "Solution 2 이중 for문 -> 단일 for문 "
   ]
  },
  {
   "cell_type": "code",
   "execution_count": 17,
   "id": "277a724e",
   "metadata": {},
   "outputs": [],
   "source": [
    "def solution(answers):\n",
    " \n",
    "    s1 = [1, 2, 3, 4, 5]\n",
    "    s2 = [2, 1, 2, 3, 2, 4, 2, 5]\n",
    "    s3 = [3, 3, 1, 1, 2, 2, 4, 4, 5, 5]\n",
    "    counts = [0, 0, 0]\n",
    "    \n",
    "    for i in range(len(answers)):\n",
    "        if answers[i] == s1[i%len(s1)]:\n",
    "            counts[0] = counts[0] + 1\n",
    "        if answers[i] == s2[i%len(s2)]:\n",
    "            counts[1] = counts[1] + 1\n",
    "        if answers[i] == s3[i%len(s3)]:\n",
    "            counts[2] = counts[2] + 1\n",
    "                \n",
    "    max_score = max(counts)\n",
    "    \n",
    "    return [i+1 for i in range(len(counts)) if counts[i] == max_score]"
   ]
  },
  {
   "cell_type": "markdown",
   "id": "642d17fc",
   "metadata": {},
   "source": [
    "\n"
   ]
  },
  {
   "cell_type": "markdown",
   "id": "cf1f7956",
   "metadata": {},
   "source": [
    "\n"
   ]
  },
  {
   "cell_type": "code",
   "execution_count": 19,
   "id": "ec8cf900",
   "metadata": {},
   "outputs": [
    {
     "data": {
      "text/plain": [
       "[1, 2, 3]"
      ]
     },
     "execution_count": 19,
     "metadata": {},
     "output_type": "execute_result"
    }
   ],
   "source": [
    "solution([1,3,2,4,2])"
   ]
  }
 ],
 "metadata": {
  "kernelspec": {
   "display_name": "Python 3 (ipykernel)",
   "language": "python",
   "name": "python3"
  },
  "language_info": {
   "codemirror_mode": {
    "name": "ipython",
    "version": 3
   },
   "file_extension": ".py",
   "mimetype": "text/x-python",
   "name": "python",
   "nbconvert_exporter": "python",
   "pygments_lexer": "ipython3",
   "version": "3.9.7"
  }
 },
 "nbformat": 4,
 "nbformat_minor": 5
}
