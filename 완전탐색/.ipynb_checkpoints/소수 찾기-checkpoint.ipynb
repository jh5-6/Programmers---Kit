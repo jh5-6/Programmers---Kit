{
 "cells": [
  {
   "cell_type": "markdown",
   "id": "00b32273",
   "metadata": {},
   "source": [
    "# [소수 찾기]"
   ]
  },
  {
   "cell_type": "markdown",
   "id": "cfa923a8",
   "metadata": {},
   "source": [
    "\n"
   ]
  },
  {
   "cell_type": "markdown",
   "id": "26821157",
   "metadata": {},
   "source": [
    "\n"
   ]
  },
  {
   "cell_type": "markdown",
   "id": "9b104904",
   "metadata": {},
   "source": [
    "한자리 숫자가 적힌 종이 조각이 흩어져있습니다. 흩어진 종이 조각을 붙여 소수를 몇 개 만들 수 있는지 알아내려 합니다.\n",
    "\n",
    "각 종이 조각에 적힌 숫자가 적힌 문자열 numbers가 주어졌을 때, 종이 조각으로 만들 수 있는 소수가 몇 개인지 return 하도록 solution 함수를 완성해주세요."
   ]
  },
  {
   "cell_type": "markdown",
   "id": "209e7513",
   "metadata": {},
   "source": [
    "    <제한사항>\n",
    "    - numbers는 길이 1 이상 7 이하인 문자열입니다.\n",
    "    - numbers는 0~9까지 숫자만으로 이루어져 있습니다.\n",
    "    - \"013\"은 0, 1, 3 숫자가 적힌 종이 조각이 흩어져있다는 의미입니다."
   ]
  },
  {
   "cell_type": "markdown",
   "id": "b0cd5edc",
   "metadata": {},
   "source": [
    "\n"
   ]
  },
  {
   "cell_type": "markdown",
   "id": "50ac0365",
   "metadata": {},
   "source": [
    "\n"
   ]
  },
  {
   "cell_type": "markdown",
   "id": "0b3d4e46",
   "metadata": {},
   "source": [
    "[TIP]\n",
    "1. itertools의 permutations를 사용해 가능한 모든 CASE 구하기 \n",
    "2. 재귀를 활용해 직접 모든 CASE 구하기 \n",
    "\n",
    "- set() : 중복 원소 없는 집합"
   ]
  },
  {
   "cell_type": "markdown",
   "id": "82e32f20",
   "metadata": {},
   "source": [
    "\n"
   ]
  },
  {
   "cell_type": "markdown",
   "id": "0624a5de",
   "metadata": {},
   "source": [
    "\n"
   ]
  },
  {
   "cell_type": "markdown",
   "id": "4cddb369",
   "metadata": {},
   "source": [
    "Solution 1 itertools의 permutations를 사용한 문제 풀이 "
   ]
  },
  {
   "cell_type": "code",
   "execution_count": 69,
   "id": "471c34a4",
   "metadata": {},
   "outputs": [],
   "source": [
    "from itertools import permutations \n",
    "\n",
    "\n",
    "def isPrime(number):\n",
    "    \n",
    "    if number == 0 or number == 1:\n",
    "        return False \n",
    "    \n",
    "    for i in range(2, number // 2 + 1):\n",
    "        if number % i == 0:\n",
    "            return False \n",
    "        \n",
    "    return True \n",
    "\n",
    "def solution(numbers):\n",
    "\n",
    "    cnt = 0 \n",
    "    number = []\n",
    "    \n",
    "    for i in range(1, len(numbers)+1):\n",
    "        perm = list(permutations(numbers, i))\n",
    "        \n",
    "        for p in perm:\n",
    "            num = int(\"\".join(p))\n",
    "            number.append(num)\n",
    "           \n",
    "    number = set(number)      \n",
    "\n",
    "    for num in number:\n",
    "        \n",
    "        if isPrime(num) :\n",
    "            cnt = cnt + 1\n",
    "            \n",
    "    return cnt"
   ]
  },
  {
   "cell_type": "markdown",
   "id": "c7e81b00",
   "metadata": {},
   "source": [
    "\n"
   ]
  },
  {
   "cell_type": "markdown",
   "id": "bc2ca1e2",
   "metadata": {},
   "source": [
    "\n"
   ]
  },
  {
   "cell_type": "markdown",
   "id": "dced7b08",
   "metadata": {},
   "source": [
    "Solution 2 재귀를 활용한 문제 풀이 "
   ]
  },
  {
   "cell_type": "code",
   "execution_count": 26,
   "id": "75f0aa30",
   "metadata": {},
   "outputs": [],
   "source": [
    "primeSet = set()\n",
    "\n",
    "def isPrime(number):\n",
    "    \n",
    "    if number < 2:\n",
    "        return False \n",
    "    \n",
    "    for i in range(2, number // 2 + 1):\n",
    "        if number % i == 0:\n",
    "            return False \n",
    "        \n",
    "    return True \n",
    "\n",
    "\n",
    "def makeCombination(comb, others):\n",
    "    \n",
    "    if comb != \"\" :\n",
    "        if isPrime(int(comb)):\n",
    "            primeSet.add(int(comb))\n",
    "    \n",
    "    for i in range(len(others)):\n",
    "        makeCombination(comb + others[i], others[:i] + others[i+1:])\n",
    "        \n",
    "        \n",
    "def solution(numbers):\n",
    " \n",
    "    makeCombination(\"\", numbers)\n",
    " \n",
    "    return len(primeSet)"
   ]
  },
  {
   "cell_type": "markdown",
   "id": "328d6b46",
   "metadata": {},
   "source": [
    "\n"
   ]
  },
  {
   "cell_type": "markdown",
   "id": "946a2d0b",
   "metadata": {},
   "source": [
    "\n"
   ]
  },
  {
   "cell_type": "code",
   "execution_count": 27,
   "id": "9e9a9115",
   "metadata": {},
   "outputs": [
    {
     "data": {
      "text/plain": [
       "2"
      ]
     },
     "execution_count": 27,
     "metadata": {},
     "output_type": "execute_result"
    }
   ],
   "source": [
    "solution(\"011\")"
   ]
  }
 ],
 "metadata": {
  "kernelspec": {
   "display_name": "Python 3 (ipykernel)",
   "language": "python",
   "name": "python3"
  },
  "language_info": {
   "codemirror_mode": {
    "name": "ipython",
    "version": 3
   },
   "file_extension": ".py",
   "mimetype": "text/x-python",
   "name": "python",
   "nbconvert_exporter": "python",
   "pygments_lexer": "ipython3",
   "version": "3.9.7"
  }
 },
 "nbformat": 4,
 "nbformat_minor": 5
}
