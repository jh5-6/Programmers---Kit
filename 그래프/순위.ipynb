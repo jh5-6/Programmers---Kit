{
 "cells": [
  {
   "cell_type": "markdown",
   "id": "8a2a6be1",
   "metadata": {},
   "source": [
    "# [순위]"
   ]
  },
  {
   "cell_type": "markdown",
   "id": "f674ce63",
   "metadata": {},
   "source": [
    "\n"
   ]
  },
  {
   "cell_type": "markdown",
   "id": "5d35223f",
   "metadata": {},
   "source": [
    "n명의 권투선수가 권투 대회에 참여했고 각각 1번부터 n번까지 번호를 받았습니다. \n",
    "\n",
    "권투 경기는 1대1 방식으로 진행이 되고, 만약 A 선수가 B 선수보다 실력이 좋다면 A 선수는 B 선수를 항상 이깁니다. \n",
    "\n",
    "심판은 주어진 경기 결과를 가지고 선수들의 순위를 매기려 합니다. 하지만 몇몇 경기 결과를 분실하여 정확하게 순위를 매길 수 없습니다.\n",
    "\n",
    "선수의 수 n, 경기 결과를 담은 2차원 배열 results가 매개변수로 주어질 때 정확하게 순위를 매길 수 있는 선수의 수를 return 하도록 solution 함수를 작성해주세요."
   ]
  },
  {
   "cell_type": "markdown",
   "id": "1e0bcca9",
   "metadata": {},
   "source": [
    "\n"
   ]
  },
  {
   "cell_type": "markdown",
   "id": "7272f591",
   "metadata": {},
   "source": [
    "< 제한사항 >\n",
    "- 선수의 수는 1명 이상 100명 이하입니다.\n",
    "- 경기 결과는 1개 이상 4,500개 이하입니다.\n",
    "- results 배열 각 행 [A, B]는 A 선수가 B 선수를 이겼다는 의미입니다.\n",
    "- 모든 경기 결과에는 모순이 없습니다."
   ]
  },
  {
   "cell_type": "markdown",
   "id": "f753d72e",
   "metadata": {},
   "source": [
    "\n"
   ]
  },
  {
   "cell_type": "markdown",
   "id": "c009d9c4",
   "metadata": {},
   "source": [
    "\n"
   ]
  },
  {
   "cell_type": "markdown",
   "id": "db5d221c",
   "metadata": {},
   "source": [
    "[문제 풀이 접근 방법]\n",
    "\n",
    "A와 B의 경기 결과\n",
    "1. results에 있는 경우 \n",
    "\n",
    "2. results에 없는 경우 : A-K 경기결과 + K-B 경기결과 -> A-B 경기결과 \n",
    "      \n",
    "        * case 1) A가 K 이김 + K가 B 이김 => A가 B 이김 & B가 A에 짐\n",
    "        * case 2) A가 K 이김 + B가 K 이김 => A와 B의 경기 결과 알 수 없음 "
   ]
  },
  {
   "cell_type": "markdown",
   "id": "6d05c7af",
   "metadata": {},
   "source": [
    "\n"
   ]
  },
  {
   "cell_type": "markdown",
   "id": "6a77b628",
   "metadata": {},
   "source": [
    "\n"
   ]
  },
  {
   "cell_type": "markdown",
   "id": "2cbf6faf",
   "metadata": {},
   "source": [
    "Solution "
   ]
  },
  {
   "cell_type": "code",
   "execution_count": 50,
   "id": "78bcfb7f",
   "metadata": {},
   "outputs": [],
   "source": [
    "def solution(n, results):\n",
    "    \n",
    "    answer = 0\n",
    "    # 승/패 결과\n",
    "    adj = [[0 for _ in range(n)] for _ in range(n)]\n",
    "    \n",
    "    for a,b in results:\n",
    "        adj[a-1][b-1] = 1\n",
    "        adj[b-1][a-1] = -1\n",
    "        \n",
    "    # i-j의 경기 결과 모르는 경우 \n",
    "    # i-k 경기 결과 + k-j 경기 결과 => i-j 경기 결과 예측\n",
    "    for k in range(n):\n",
    "        for i in range(n):\n",
    "            for j in range(n):              \n",
    "                if i == j or adj[i][j] in [1,-1]: # i-j의 경기 결과를 알고 있는 경우 \n",
    "                    continue\n",
    "                                                          \n",
    "                if adj[i][k] == adj[k][j] == 1:   # i가 k를 이기고, k가 j를 이긴 경우 \n",
    "                    adj[i][j] = 1                  # i는 j를 이김\n",
    "                    adj[j][i] = -1                 # j는 i에 짐 \n",
    "                    \n",
    "    for row in adj:             # 각 선수의 경기 결과 \n",
    "        if row.count(0) == 1:   # 0 : 경기 결과 모르는 경우의 수 (자기 자신과의 시합 경기 결과 = 0)\n",
    "            answer += 1\n",
    "            \n",
    "    return answer"
   ]
  },
  {
   "cell_type": "markdown",
   "id": "24d2541c",
   "metadata": {},
   "source": [
    "\n"
   ]
  },
  {
   "cell_type": "markdown",
   "id": "9cef7341",
   "metadata": {},
   "source": [
    "\n"
   ]
  },
  {
   "cell_type": "code",
   "execution_count": 47,
   "id": "6319cfdf",
   "metadata": {},
   "outputs": [
    {
     "data": {
      "text/plain": [
       "2"
      ]
     },
     "execution_count": 47,
     "metadata": {},
     "output_type": "execute_result"
    }
   ],
   "source": [
    "solution(5,[[4, 3], [4, 2], [3, 2], [1, 2], [2, 5]])"
   ]
  }
 ],
 "metadata": {
  "kernelspec": {
   "display_name": "Python 3 (ipykernel)",
   "language": "python",
   "name": "python3"
  },
  "language_info": {
   "codemirror_mode": {
    "name": "ipython",
    "version": 3
   },
   "file_extension": ".py",
   "mimetype": "text/x-python",
   "name": "python",
   "nbconvert_exporter": "python",
   "pygments_lexer": "ipython3",
   "version": "3.9.7"
  }
 },
 "nbformat": 4,
 "nbformat_minor": 5
}
