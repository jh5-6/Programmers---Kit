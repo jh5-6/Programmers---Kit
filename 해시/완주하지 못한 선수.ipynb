{
 "cells": [
  {
   "cell_type": "markdown",
   "id": "c1fb5b53",
   "metadata": {},
   "source": [
    "# [완주하지 못한 선수] "
   ]
  },
  {
   "cell_type": "markdown",
   "id": "2c7d5341",
   "metadata": {},
   "source": [
    "\n",
    "\n"
   ]
  },
  {
   "cell_type": "markdown",
   "id": "7a9f2053",
   "metadata": {},
   "source": [
    "수많은 마라톤 선수들이 마라톤에 참여하였습니다. 단 한 명의 선수를 제외하고는 모든 선수가 마라톤을 완주하였습니다.\n",
    "\n",
    "마라톤에 참여한 선수들의 이름이 담긴 배열 participant와 완주한 선수들의 이름이 담긴 배열 completion이 주어질 때, 완주하지 못한 선수의 이름을 return 하도록 solution 함수를 작성해주세요.\n",
    "\n",
    "    [제한사항]\n",
    "    마라톤 경기에 참여한 선수의 수는 1명 이상 100,000명 이하입니다.\n",
    "    completion의 길이는 participant의 길이보다 1 작습니다.\n",
    "    참가자의 이름은 1개 이상 20개 이하의 알파벳 소문자로 이루어져 있습니다.\n",
    "    참가자 중에는 동명이인이 있을 수 있습니다."
   ]
  },
  {
   "cell_type": "markdown",
   "id": "2d1737b2",
   "metadata": {},
   "source": [
    "\n",
    "\n"
   ]
  },
  {
   "cell_type": "markdown",
   "id": "8ff55652",
   "metadata": {},
   "source": [
    "[TIP]\n",
    "\n",
    "- collections.Counter() : 해시 가능한 객체들 카운팅하여 딕셔너리 형태로 반환 (key: 카운팅하고자 하는 값, value: 키값이 몇 개가 있는지 개수 값)"
   ]
  },
  {
   "cell_type": "markdown",
   "id": "87de404c",
   "metadata": {},
   "source": [
    "\n",
    "\n"
   ]
  },
  {
   "cell_type": "markdown",
   "id": "83a48ac1",
   "metadata": {},
   "source": [
    "Solution 1 hash를 이용한 풀이 "
   ]
  },
  {
   "cell_type": "code",
   "execution_count": 36,
   "id": "ea7a1fbb",
   "metadata": {},
   "outputs": [],
   "source": [
    "def solution(participant, completion):\n",
    "\n",
    "    hashDict = {}\n",
    "    sumHash = 0\n",
    "    \n",
    "    for name in participant:\n",
    "        hashDict[hash(name)] = name \n",
    "        sumHash = sumHash + hash(name)\n",
    "        \n",
    "    for name in completion:\n",
    "        sumHash = sumHash - hash(name)\n",
    "        \n",
    "        \n",
    "    return hashDict[sumHash]"
   ]
  },
  {
   "cell_type": "markdown",
   "id": "ddf5967c",
   "metadata": {},
   "source": [
    "  \n",
    "  \n",
    "  "
   ]
  },
  {
   "cell_type": "markdown",
   "id": "5e8af09f",
   "metadata": {},
   "source": [
    "Solution 2 collections의 Counter 이용한 풀이"
   ]
  },
  {
   "cell_type": "code",
   "execution_count": 37,
   "id": "4a456ddb",
   "metadata": {},
   "outputs": [],
   "source": [
    "import collections\n",
    "\n",
    "def solution(participant, completion):\n",
    "\n",
    "    answer = collections.Counter(participant) - collections.Counter(completion)\n",
    "        \n",
    "    return list(answer.keys())[0]"
   ]
  },
  {
   "cell_type": "markdown",
   "id": "41fec0df",
   "metadata": {},
   "source": [
    "\n",
    "\n"
   ]
  },
  {
   "cell_type": "code",
   "execution_count": 38,
   "id": "506c0145",
   "metadata": {},
   "outputs": [
    {
     "data": {
      "text/plain": [
       "'mislav'"
      ]
     },
     "execution_count": 38,
     "metadata": {},
     "output_type": "execute_result"
    }
   ],
   "source": [
    "solution([\"mislav\", \"stanko\", \"mislav\", \"ana\"], [\"stanko\", \"ana\", \"mislav\"])"
   ]
  }
 ],
 "metadata": {
  "kernelspec": {
   "display_name": "Python 3 (ipykernel)",
   "language": "python",
   "name": "python3"
  },
  "language_info": {
   "codemirror_mode": {
    "name": "ipython",
    "version": 3
   },
   "file_extension": ".py",
   "mimetype": "text/x-python",
   "name": "python",
   "nbconvert_exporter": "python",
   "pygments_lexer": "ipython3",
   "version": "3.9.7"
  }
 },
 "nbformat": 4,
 "nbformat_minor": 5
}
