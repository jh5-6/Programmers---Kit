{
 "cells": [
  {
   "cell_type": "markdown",
   "id": "e596837d",
   "metadata": {},
   "source": [
    "# [전화번호 목록]"
   ]
  },
  {
   "cell_type": "markdown",
   "id": "ea622e94",
   "metadata": {},
   "source": [
    "\n",
    "\n"
   ]
  },
  {
   "cell_type": "markdown",
   "id": "4cc9c4b8",
   "metadata": {},
   "source": [
    "전화번호부에 적힌 전화번호 중, 한 번호가 다른 번호의 접두어인 경우가 있는지 확인하려 합니다.\n",
    "전화번호가 다음과 같을 경우, 구조대 전화번호는 영석이의 전화번호의 접두사입니다.\n",
    "\n",
    "    구조대 : 119\n",
    "    박준영 : 97 674 223\n",
    "    지영석 : 11 9552 4421\n",
    "    \n",
    "전화번호부에 적힌 전화번호를 담은 배열 phone_book 이 solution 함수의 매개변수로 주어질 때, 어떤 번호가 다른 번호의 접두어인 경우가 있으면 false를 그렇지 않으면 true를 return 하도록 solution 함수를 작성해주세요.\n",
    "\n",
    "    [제한 사항]\n",
    "    phone_book의 길이는 1 이상 1,000,000 이하입니다.\n",
    "    각 전화번호의 길이는 1 이상 20 이하입니다.\n",
    "    같은 전화번호가 중복해서 들어있지 않습니다."
   ]
  },
  {
   "cell_type": "markdown",
   "id": "db29a24a",
   "metadata": {},
   "source": [
    "\n",
    "\n"
   ]
  },
  {
   "cell_type": "markdown",
   "id": "bcf20e51",
   "metadata": {},
   "source": [
    "[TIP] \n",
    "- str1.startswith(str2) : str1이 str2로 시작하는지 여부 반환(True/False)\n",
    "- str1.startswith(str2, 5) : 두번째 인자를 넣어 찾기 시작할 지점을 지정 가능 \n",
    "    \n",
    "- zip() : iterable 자료형의 각각의 요소를 나눈 후 순서대로 묶어서 요소 개수만큼 새로운 iterable 자료형을 생성"
   ]
  },
  {
   "cell_type": "markdown",
   "id": "a0c7875e",
   "metadata": {},
   "source": [
    "\n",
    "\n"
   ]
  },
  {
   "cell_type": "markdown",
   "id": "62f95d6a",
   "metadata": {},
   "source": [
    "Solution 1 "
   ]
  },
  {
   "cell_type": "code",
   "execution_count": 1,
   "id": "7a285975",
   "metadata": {},
   "outputs": [],
   "source": [
    "def solution(phone_book):\n",
    "\n",
    "    phone_book.sort()\n",
    "    \n",
    "    phone_dict = {}\n",
    "    for i in range(len(phone_book)):\n",
    "        phone_dict[phone_book[i]] = i\n",
    "    \n",
    "\n",
    "    current = 0\n",
    "    length = len(phone_book[current])\n",
    "    count = 0\n",
    "    \n",
    "    for number, index in phone_dict.items():\n",
    "        if len(number) > length :\n",
    "            if number.startswith(phone_book[current]):\n",
    "                return False \n",
    "            else :\n",
    "                current = index\n",
    "                length = len(number)\n",
    "                count = 0\n",
    "                \n",
    "        else:\n",
    "            current = index\n",
    "            length = len(number)\n",
    "            count = 0\n",
    "            \n",
    "    return True"
   ]
  },
  {
   "cell_type": "markdown",
   "id": "89905100",
   "metadata": {},
   "source": [
    "\n",
    "\n"
   ]
  },
  {
   "cell_type": "markdown",
   "id": "12c3224b",
   "metadata": {},
   "source": [
    "Solution 2 zip() 사용한 풀이 "
   ]
  },
  {
   "cell_type": "code",
   "execution_count": 4,
   "id": "8449ce07",
   "metadata": {},
   "outputs": [],
   "source": [
    "def solution(phone_book):\n",
    "\n",
    "    phone_book.sort()\n",
    "    for num1, num2 in zip(phone_book, phone_book[1:]):\n",
    "        if num2.startswith(num1) :\n",
    "            return False\n",
    "        \n",
    "    return True"
   ]
  },
  {
   "cell_type": "markdown",
   "id": "fd03ba6a",
   "metadata": {},
   "source": [
    "\n",
    "\n"
   ]
  },
  {
   "cell_type": "markdown",
   "id": "e1eb1907",
   "metadata": {},
   "source": [
    "Solution 3 hash 사용한 문제 풀이 "
   ]
  },
  {
   "cell_type": "code",
   "execution_count": 1,
   "id": "949a0f13",
   "metadata": {},
   "outputs": [],
   "source": [
    "def solution(phone_book):\n",
    "\n",
    "    phone_dict = {}\n",
    "    for number in phone_book:\n",
    "        phone_dict[number] = 1\n",
    "        \n",
    "    for phone_number in phone_book:\n",
    "        tmp = \"\"\n",
    "        for number in phone_number:\n",
    "            tmp = tmp + number\n",
    "            if tmp in phone_dict and phone_number != tmp:\n",
    "                return False\n",
    "    return True"
   ]
  },
  {
   "cell_type": "markdown",
   "id": "f29e750d",
   "metadata": {},
   "source": [
    "\n",
    "\n"
   ]
  },
  {
   "cell_type": "code",
   "execution_count": 5,
   "id": "5c610d5c",
   "metadata": {},
   "outputs": [
    {
     "data": {
      "text/plain": [
       "False"
      ]
     },
     "execution_count": 5,
     "metadata": {},
     "output_type": "execute_result"
    }
   ],
   "source": [
    "solution([\"934793\", \"34\", \"44\", \"9347\"])"
   ]
  },
  {
   "cell_type": "code",
   "execution_count": null,
   "id": "4cf0f642",
   "metadata": {},
   "outputs": [],
   "source": []
  }
 ],
 "metadata": {
  "kernelspec": {
   "display_name": "Python 3 (ipykernel)",
   "language": "python",
   "name": "python3"
  },
  "language_info": {
   "codemirror_mode": {
    "name": "ipython",
    "version": 3
   },
   "file_extension": ".py",
   "mimetype": "text/x-python",
   "name": "python",
   "nbconvert_exporter": "python",
   "pygments_lexer": "ipython3",
   "version": "3.9.7"
  }
 },
 "nbformat": 4,
 "nbformat_minor": 5
}
