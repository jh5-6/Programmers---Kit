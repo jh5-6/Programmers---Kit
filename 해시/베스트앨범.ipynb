{
 "cells": [
  {
   "cell_type": "markdown",
   "id": "4129d0e7",
   "metadata": {},
   "source": [
    "# [베스트앨범]"
   ]
  },
  {
   "cell_type": "markdown",
   "id": "ef47ecf6",
   "metadata": {},
   "source": [
    "\n"
   ]
  },
  {
   "cell_type": "markdown",
   "id": "c8745bf1",
   "metadata": {},
   "source": [
    "\n"
   ]
  },
  {
   "cell_type": "markdown",
   "id": "fde499e4",
   "metadata": {},
   "source": [
    "스트리밍 사이트에서 장르 별로 가장 많이 재생된 노래를 두 개씩 모아 베스트 앨범을 출시하려 합니다. 노래는 고유 번호로 구분하며, 노래를 수록하는 기준은 다음과 같습니다.\n",
    "\n",
    "    1. 속한 노래가 많이 재생된 장르를 먼저 수록합니다.\n",
    "    2. 장르 내에서 많이 재생된 노래를 먼저 수록합니다.\n",
    "    3. 장르 내에서 재생 횟수가 같은 노래 중에서는 고유 번호가 낮은 노래를 먼저 수록합니다.\n",
    "    \n",
    "    \n",
    "노래의 장르를 나타내는 문자열 배열 genres와 노래별 재생 횟수를 나타내는 정수 배열 plays가 주어질 때, 베스트 앨범에 들어갈 노래의 고유 번호를 순서대로 return 하도록 solution 함수를 완성하세요."
   ]
  },
  {
   "cell_type": "markdown",
   "id": "b2c0acec",
   "metadata": {},
   "source": [
    "\n"
   ]
  },
  {
   "cell_type": "markdown",
   "id": "9f315636",
   "metadata": {},
   "source": [
    "[제한사항]\n",
    "- genres[i]는 고유번호가 i인 노래의 장르입니다.\n",
    "- plays[i]는 고유번호가 i인 노래가 재생된 횟수입니다.\n",
    "- genres와 plays의 길이는 같으며, 이는 1 이상 10,000 이하입니다.\n",
    "- 장르 종류는 100개 미만입니다.\n",
    "- 장르에 속한 곡이 하나라면, 하나의 곡만 선택합니다.\n",
    "- 모든 장르는 재생된 횟수가 다릅니다."
   ]
  },
  {
   "cell_type": "markdown",
   "id": "94b0a17b",
   "metadata": {},
   "source": [
    "\n"
   ]
  },
  {
   "cell_type": "markdown",
   "id": "3bcda0d8",
   "metadata": {},
   "source": [
    "\n"
   ]
  },
  {
   "cell_type": "markdown",
   "id": "96136fac",
   "metadata": {},
   "source": [
    "Solution 1 dict() 활용한 문제 풀이 "
   ]
  },
  {
   "cell_type": "code",
   "execution_count": 328,
   "id": "a5366529",
   "metadata": {},
   "outputs": [],
   "source": [
    "def solution(genres, plays):\n",
    "    \n",
    "    answer = []  \n",
    "    dict_list = dict()\n",
    "    dict_sum = dict()\n",
    "    \n",
    "\n",
    "    for i in range(len(genres)):\n",
    "        g = genres[i]\n",
    "        \n",
    "        if g in dict_list:\n",
    "            dict_list[g] += [[plays[i], i]]\n",
    "            dict_sum[g] += plays[i]\n",
    "        else:\n",
    "            dict_list[g] = [[plays[i], i]]\n",
    "            dict_sum[g] = plays[i]\n",
    "\n",
    "    dict_sum = sorted(dict_sum.items(), key = lambda item: item[1], reverse= True)\n",
    "    \n",
    "    for key, values in dict_sum:   \n",
    "        \n",
    "        play_list = sorted(dict_list[key], key = lambda item: item[0], reverse= True)\n",
    "\n",
    "        if len(play_list) > 1 :\n",
    "            for i in range(2):\n",
    "                answer.append(play_list[i][1])\n",
    "        else :\n",
    "            answer.append(play_list[0][1])\n",
    "            \n",
    "    return answer"
   ]
  },
  {
   "cell_type": "markdown",
   "id": "d215f492",
   "metadata": {},
   "source": [
    "\n"
   ]
  },
  {
   "cell_type": "markdown",
   "id": "93f79d78",
   "metadata": {},
   "source": [
    "\n"
   ]
  },
  {
   "cell_type": "markdown",
   "id": "bb11f97a",
   "metadata": {},
   "source": [
    "Solution 2 defaultdict 활용한 문제 풀이 "
   ]
  },
  {
   "cell_type": "code",
   "execution_count": 331,
   "id": "9e24a8df",
   "metadata": {},
   "outputs": [],
   "source": [
    "import collections \n",
    "\n",
    "def solution(genres, plays):\n",
    "    \n",
    "    answer = []  \n",
    "    dict_list = collections.defaultdict(list)\n",
    "    dict_sum = collections.defaultdict(int)\n",
    "    \n",
    "    for i in range(len(genres)):\n",
    "        g = genres[i]\n",
    "        dict_list[g].append([i, plays[i]])\n",
    "        dict_sum[g] += plays[i]\n",
    "    \n",
    "    dict_sum = sorted(dict_sum.items(), key = lambda item: item[1], reverse = True)\n",
    "\n",
    "    for key, values in dict_sum:\n",
    "        sorted_list = sorted(dict_list[key], key = lambda item: item[1], reverse = True)     \n",
    "        for idx, category in sorted_list[:2] :\n",
    "            answer.append(idx)\n",
    "            \n",
    "    return answer"
   ]
  },
  {
   "cell_type": "markdown",
   "id": "fca5a2eb",
   "metadata": {},
   "source": [
    "\n"
   ]
  },
  {
   "cell_type": "markdown",
   "id": "2743ac85",
   "metadata": {},
   "source": [
    "\n"
   ]
  },
  {
   "cell_type": "code",
   "execution_count": 332,
   "id": "c53679b7",
   "metadata": {},
   "outputs": [
    {
     "data": {
      "text/plain": [
       "[4, 1, 3, 0]"
      ]
     },
     "execution_count": 332,
     "metadata": {},
     "output_type": "execute_result"
    }
   ],
   "source": [
    "solution([\"classic\", \"pop\", \"classic\", \"classic\", \"pop\"], [500, 600, 150, 800, 2500])"
   ]
  }
 ],
 "metadata": {
  "kernelspec": {
   "display_name": "Python 3 (ipykernel)",
   "language": "python",
   "name": "python3"
  },
  "language_info": {
   "codemirror_mode": {
    "name": "ipython",
    "version": 3
   },
   "file_extension": ".py",
   "mimetype": "text/x-python",
   "name": "python",
   "nbconvert_exporter": "python",
   "pygments_lexer": "ipython3",
   "version": "3.9.7"
  }
 },
 "nbformat": 4,
 "nbformat_minor": 5
}
