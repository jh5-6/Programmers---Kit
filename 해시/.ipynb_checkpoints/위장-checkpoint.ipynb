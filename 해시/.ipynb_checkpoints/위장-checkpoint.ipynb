{
 "cells": [
  {
   "cell_type": "markdown",
   "id": "05f61ada",
   "metadata": {},
   "source": [
    "# [위장]"
   ]
  },
  {
   "cell_type": "markdown",
   "id": "67d8ede3",
   "metadata": {},
   "source": [
    "\n"
   ]
  },
  {
   "cell_type": "markdown",
   "id": "d3208059",
   "metadata": {},
   "source": [
    "\n"
   ]
  },
  {
   "cell_type": "markdown",
   "id": "9c25f42b",
   "metadata": {},
   "source": [
    "스파이들은 매일 다른 옷을 조합하여 입어 자신을 위장합니다.\n",
    "\n",
    "예를 들어 스파이가 가진 옷이 아래와 같고 오늘 스파이가 동그란 안경, 긴 코트, 파란색 티셔츠를 입었다면 다음날은 청바지를 추가로 입거나 동그란 안경 대신 검정 선글라스를 착용하거나 해야 합니다.\n",
    "\n",
    "    종류\t이름\n",
    "    얼굴\t동그란 안경, 검정 선글라스\n",
    "    상의\t파란색 티셔츠\n",
    "    하의\t청바지\n",
    "    겉옷\t긴 코트\n",
    "\n",
    "\n",
    "스파이가 가진 의상들이 담긴 2차원 배열 clothes가 주어질 때 서로 다른 옷의 조합의 수를 return 하도록 solution 함수를 작성해주세요."
   ]
  },
  {
   "cell_type": "markdown",
   "id": "1ebf11c0",
   "metadata": {},
   "source": [
    "\n"
   ]
  },
  {
   "cell_type": "markdown",
   "id": "a11303b7",
   "metadata": {},
   "source": [
    "<제한사항>\n",
    "- clothes의 각 행은 [의상의 이름, 의상의 종류]로 이루어져 있습니다.\n",
    "- 스파이가 가진 의상의 수는 1개 이상 30개 이하입니다.\n",
    "- 같은 이름을 가진 의상은 존재하지 않습니다.\n",
    "- clothes의 모든 원소는 문자열로 이루어져 있습니다.\n",
    "- 모든 문자열의 길이는 1 이상 20 이하인 자연수이고 알파벳 소문자 또는 '_' 로만 이루어져 있습니다.\n",
    "- 이는 하루에 최소 한 개의 의상은 입습니다."
   ]
  },
  {
   "cell_type": "markdown",
   "id": "7e7c5115",
   "metadata": {},
   "source": [
    "\n"
   ]
  },
  {
   "cell_type": "markdown",
   "id": "7a1d7ab8",
   "metadata": {},
   "source": [
    "\n"
   ]
  },
  {
   "cell_type": "markdown",
   "id": "9ebce9c6",
   "metadata": {},
   "source": [
    "[TIP]\n",
    "- Counter() : 해시 가능한 객체를 세기 위한 dict 서브 클래스 \n",
    "- 요소가 딕셔너리 key로 저장되고 개수가 딕셔너리 value로 저장\n",
    "\n",
    "\n",
    "\n",
    "\n",
    "\n",
    "\n",
    "\n",
    "- reduce() : 반복 가능한 객체의 각 요소를 지정된 함수로 처리한 뒤 이전 결과와 누적해서 반환하는 함수\n",
    "- reduce(집계 함수, 순회 가능한 데이터, 초기값)\n"
   ]
  },
  {
   "cell_type": "markdown",
   "id": "b1a30020",
   "metadata": {},
   "source": [
    "\n"
   ]
  },
  {
   "cell_type": "markdown",
   "id": "fa11d089",
   "metadata": {},
   "source": [
    "\n"
   ]
  },
  {
   "cell_type": "markdown",
   "id": "b02df99f",
   "metadata": {},
   "source": [
    "Solution 1 "
   ]
  },
  {
   "cell_type": "code",
   "execution_count": 89,
   "id": "d31e8b0b",
   "metadata": {},
   "outputs": [],
   "source": [
    "def solution(clothes):\n",
    "    \n",
    "    answer = 1\n",
    "    dict_clothes = dict()\n",
    "    \n",
    "    for cloth in clothes:     \n",
    "        category = cloth[1]\n",
    "        \n",
    "        if category in dict_clothes :\n",
    "            dict_clothes[category] += 1\n",
    "        else :\n",
    "            dict_clothes[category] = 1\n",
    "    \n",
    "    for c in dict_clothes:\n",
    "        answer *= (1 + dict_clothes[c])\n",
    "    \n",
    "    return answer - 1"
   ]
  },
  {
   "cell_type": "markdown",
   "id": "af7b2872",
   "metadata": {},
   "source": [
    "\n"
   ]
  },
  {
   "cell_type": "markdown",
   "id": "0ead445c",
   "metadata": {},
   "source": [
    "\n"
   ]
  },
  {
   "cell_type": "markdown",
   "id": "2019fc66",
   "metadata": {},
   "source": [
    "Solution 2 Counter, reduce 활용한 풀이 "
   ]
  },
  {
   "cell_type": "code",
   "execution_count": 90,
   "id": "79b40bbc",
   "metadata": {},
   "outputs": [],
   "source": [
    "from collections import Counter \n",
    "from functools import reduce \n",
    "\n",
    "def solution(clothes):\n",
    "\n",
    "    cnt = Counter([kind for name, kind in clothes])    \n",
    "    answer = reduce(lambda answer, count: answer*(count+1), cnt.values(), 1) - 1\n",
    "    \n",
    "    return answer"
   ]
  },
  {
   "cell_type": "markdown",
   "id": "ca9408f9",
   "metadata": {},
   "source": [
    "\n"
   ]
  },
  {
   "cell_type": "markdown",
   "id": "18b822e2",
   "metadata": {},
   "source": [
    "\n"
   ]
  },
  {
   "cell_type": "code",
   "execution_count": 91,
   "id": "494ff3f6",
   "metadata": {},
   "outputs": [
    {
     "data": {
      "text/plain": [
       "3"
      ]
     },
     "execution_count": 91,
     "metadata": {},
     "output_type": "execute_result"
    }
   ],
   "source": [
    "solution([[\"crowmask\", \"face\"], [\"bluesunglasses\", \"face\"], [\"smoky_makeup\", \"face\"]])"
   ]
  }
 ],
 "metadata": {
  "kernelspec": {
   "display_name": "Python 3 (ipykernel)",
   "language": "python",
   "name": "python3"
  },
  "language_info": {
   "codemirror_mode": {
    "name": "ipython",
    "version": 3
   },
   "file_extension": ".py",
   "mimetype": "text/x-python",
   "name": "python",
   "nbconvert_exporter": "python",
   "pygments_lexer": "ipython3",
   "version": "3.9.7"
  }
 },
 "nbformat": 4,
 "nbformat_minor": 5
}
