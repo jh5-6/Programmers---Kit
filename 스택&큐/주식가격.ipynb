{
 "cells": [
  {
   "cell_type": "markdown",
   "id": "779e4529",
   "metadata": {},
   "source": [
    "# [주식가격] "
   ]
  },
  {
   "cell_type": "markdown",
   "id": "951d2707",
   "metadata": {},
   "source": [
    "\n"
   ]
  },
  {
   "cell_type": "markdown",
   "id": "c99dca91",
   "metadata": {},
   "source": [
    "\n"
   ]
  },
  {
   "cell_type": "markdown",
   "id": "383c8224",
   "metadata": {},
   "source": [
    "초 단위로 기록된 주식가격이 담긴 배열 prices가 매개변수로 주어질 때, 가격이 떨어지지 않은 기간은 몇 초인지를 return 하도록 solution 함수를 완성하세요."
   ]
  },
  {
   "cell_type": "markdown",
   "id": "dff76d0a",
   "metadata": {},
   "source": [
    "    < 제한사항 >\n",
    "    1. prices의 각 가격은 1 이상 10,000 이하인 자연수입니다.\n",
    "    2. prices의 길이는 2 이상 100,000 이하입니다."
   ]
  },
  {
   "cell_type": "markdown",
   "id": "3ea49e98",
   "metadata": {},
   "source": [
    "\n"
   ]
  },
  {
   "cell_type": "markdown",
   "id": "4bbd17c9",
   "metadata": {},
   "source": [
    "[TIP]\n",
    "\n",
    "- 가격이 떨어지는 순간까지의 기간을 count \n",
    "- 가격이 떨어진 이후의 가격을 살펴볼 필요가 없음 "
   ]
  },
  {
   "cell_type": "markdown",
   "id": "88046f26",
   "metadata": {},
   "source": [
    "\n"
   ]
  },
  {
   "cell_type": "markdown",
   "id": "fcf23b7c",
   "metadata": {},
   "source": [
    "\n"
   ]
  },
  {
   "cell_type": "markdown",
   "id": "32c23678",
   "metadata": {},
   "source": [
    "Solution 1 이중 for문 활용해 문제 풀이 "
   ]
  },
  {
   "cell_type": "code",
   "execution_count": 34,
   "id": "dae9c05f",
   "metadata": {},
   "outputs": [],
   "source": [
    "def solution(prices):\n",
    "    answer = []    \n",
    "    \n",
    "    for i in range(len(prices)):\n",
    "        count = 0       \n",
    "        for j in range(i+1, len(prices)) :\n",
    "            count = count + 1\n",
    "            if prices[i] > prices[j]:\n",
    "                break               \n",
    "        answer.append(count)\n",
    "        \n",
    "    return answer"
   ]
  },
  {
   "cell_type": "markdown",
   "id": "49f08ab1",
   "metadata": {},
   "source": [
    "\n"
   ]
  },
  {
   "cell_type": "markdown",
   "id": "be579807",
   "metadata": {},
   "source": [
    "\n"
   ]
  },
  {
   "cell_type": "markdown",
   "id": "e7ef4172",
   "metadata": {},
   "source": [
    "Solution 2 deque 활용한 문제 풀이 "
   ]
  },
  {
   "cell_type": "code",
   "execution_count": 35,
   "id": "13d28e95",
   "metadata": {},
   "outputs": [],
   "source": [
    "from collections import deque\n",
    "\n",
    "def solution(prices): \n",
    "    answer = []\n",
    "    prices = deque(prices)\n",
    "    \n",
    "    while prices :\n",
    "       \n",
    "        price = prices.popleft()      \n",
    "        count = 0 \n",
    "        \n",
    "        for p in prices :\n",
    "            count = count + 1\n",
    "            if price > p:\n",
    "                break            \n",
    "        answer.append(count)\n",
    "    \n",
    "    return answer"
   ]
  },
  {
   "cell_type": "markdown",
   "id": "a38fa81c",
   "metadata": {},
   "source": [
    "\n"
   ]
  },
  {
   "cell_type": "code",
   "execution_count": 33,
   "id": "2af92228",
   "metadata": {},
   "outputs": [
    {
     "data": {
      "text/plain": [
       "[4, 3, 1, 1, 0]"
      ]
     },
     "execution_count": 33,
     "metadata": {},
     "output_type": "execute_result"
    }
   ],
   "source": [
    "solution([1,2,3,2,3])"
   ]
  }
 ],
 "metadata": {
  "kernelspec": {
   "display_name": "Python 3 (ipykernel)",
   "language": "python",
   "name": "python3"
  },
  "language_info": {
   "codemirror_mode": {
    "name": "ipython",
    "version": 3
   },
   "file_extension": ".py",
   "mimetype": "text/x-python",
   "name": "python",
   "nbconvert_exporter": "python",
   "pygments_lexer": "ipython3",
   "version": "3.9.7"
  }
 },
 "nbformat": 4,
 "nbformat_minor": 5
}
