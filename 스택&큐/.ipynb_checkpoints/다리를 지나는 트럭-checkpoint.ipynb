{
 "cells": [
  {
   "cell_type": "markdown",
   "id": "6ed9df5b",
   "metadata": {},
   "source": [
    "# [다리를 지나는 트럭]"
   ]
  },
  {
   "cell_type": "markdown",
   "id": "4079508c",
   "metadata": {},
   "source": [
    "\n"
   ]
  },
  {
   "attachments": {},
   "cell_type": "markdown",
   "id": "75dcc554",
   "metadata": {},
   "source": [
    "트럭 여러 대가 강을 가로지르는 일차선 다리를 정해진 순으로 건너려 합니다. 모든 트럭이 다리를 건너려면 최소 몇 초가 걸리는지 알아내야 합니다. 다리에는 트럭이 최대 bridge_length대 올라갈 수 있으며, 다리는 weight 이하까지의 무게를 견딜 수 있습니다. 단, 다리에 완전히 오르지 않은 트럭의 무게는 무시합니다.\n",
    "\n",
    "예를 들어, 트럭 2대가 올라갈 수 있고 무게를 10kg까지 견디는 다리가 있습니다. 무게가 [7, 4, 5, 6]kg인 트럭이 순서대로 최단 시간 안에 다리를 건너려면 다음과 같이 건너야 합니다.\n",
    "\n",
    "\n",
    "    경과 시간\t다리를 지난 트럭\t다리를 건너는 트럭\t대기 트럭\n",
    "    0\t        []\t               []\t               [7,4,5,6]\n",
    "    1~2\t        []\t               [7]\t               [4,5,6]\n",
    "    3\t        [7]\t               [4]\t               [5,6]\n",
    "    4\t        [7]\t               [4,5]\t           [6]\n",
    "    5\t        [7,4]\t           [5]\t               [6]\n",
    "    6~7\t        [7,4,5]\t           [6]\t               []\n",
    "    8\t        [7,4,5,6]\t       []\t               []"
   ]
  },
  {
   "cell_type": "markdown",
   "id": "89b8c60d",
   "metadata": {},
   "source": [
    "\n"
   ]
  },
  {
   "cell_type": "markdown",
   "id": "db1665c1",
   "metadata": {},
   "source": [
    "따라서, 모든 트럭이 다리를 지나려면 최소 8초가 걸립니다.\n",
    "\n",
    "solution 함수의 매개변수로 다리에 올라갈 수 있는 트럭 수 bridge_length, 다리가 견딜 수 있는 무게 weight, 트럭 별 무게 truck_weights가 주어집니다. 이때 모든 트럭이 다리를 건너려면 최소 몇 초가 걸리는지 return 하도록 solution 함수를 완성하세요."
   ]
  },
  {
   "cell_type": "markdown",
   "id": "8624cd12",
   "metadata": {},
   "source": [
    "\n"
   ]
  },
  {
   "cell_type": "markdown",
   "id": "0d93f59b",
   "metadata": {},
   "source": [
    "[제한 조건]\n",
    "- bridge_length는 1 이상 10,000 이하입니다.\n",
    "- weight는 1 이상 10,000 이하입니다.\n",
    "- truck_weights의 길이는 1 이상 10,000 이하입니다.\n",
    "- 모든 트럭의 무게는 1 이상 weight 이하입니다."
   ]
  },
  {
   "cell_type": "markdown",
   "id": "de0f2dbe",
   "metadata": {},
   "source": [
    "\n"
   ]
  },
  {
   "cell_type": "markdown",
   "id": "093987b4",
   "metadata": {},
   "source": [
    "\n"
   ]
  },
  {
   "cell_type": "markdown",
   "id": "db124a11",
   "metadata": {},
   "source": [
    "Solution 1 "
   ]
  },
  {
   "cell_type": "code",
   "execution_count": 20,
   "id": "15cc8466",
   "metadata": {},
   "outputs": [],
   "source": [
    "def solution(bridge_length, weight, truck_weights):\n",
    "\n",
    "    time = 0\n",
    "    bridge = [0] * bridge_length \n",
    "    \n",
    "    while len(bridge):\n",
    "        time += 1\n",
    "        bridge.pop(0)\n",
    "        \n",
    "        if truck_weights:\n",
    "            if sum(bridge) + truck_weights[0] <= weight:\n",
    "                bridge.append(truck_weights.pop(0))\n",
    "            else :\n",
    "                bridge.append(0)\n",
    "        \n",
    "    return time"
   ]
  },
  {
   "cell_type": "markdown",
   "id": "8319726e",
   "metadata": {},
   "source": [
    "\n"
   ]
  },
  {
   "cell_type": "markdown",
   "id": "d249de59",
   "metadata": {},
   "source": [
    "\n"
   ]
  },
  {
   "cell_type": "markdown",
   "id": "a9aebefc",
   "metadata": {},
   "source": [
    "Solution 2 시간 단축을 위한 풀이 "
   ]
  },
  {
   "cell_type": "code",
   "execution_count": 21,
   "id": "d737c8a3",
   "metadata": {},
   "outputs": [],
   "source": [
    "from collections import deque\n",
    "\n",
    "def solution(bridge_length, weight, truck_weights):\n",
    "\n",
    "    time = 0\n",
    "    bridgeWieght = 0\n",
    "    bridge = deque([0] * bridge_length)\n",
    "    waiting_truck = deque(truck_weights)\n",
    "   \n",
    "    \n",
    "    while len(bridge):\n",
    "        time += 1    \n",
    "        bridgeWieght -= bridge.popleft()\n",
    "        \n",
    "        if waiting_truck:\n",
    "            if bridgeWieght + waiting_truck[0] <= weight:\n",
    "                new_truck = waiting_truck.popleft()\n",
    "                bridge.append(new_truck)\n",
    "                bridgeWieght += new_truck\n",
    "                \n",
    "            else :\n",
    "                bridge.append(0)\n",
    "        \n",
    "    return time"
   ]
  },
  {
   "cell_type": "markdown",
   "id": "be57ff95",
   "metadata": {},
   "source": [
    "\n"
   ]
  },
  {
   "cell_type": "markdown",
   "id": "bf38b224",
   "metadata": {},
   "source": [
    "\n"
   ]
  },
  {
   "cell_type": "code",
   "execution_count": 22,
   "id": "86f5a9b5",
   "metadata": {},
   "outputs": [
    {
     "data": {
      "text/plain": [
       "101"
      ]
     },
     "execution_count": 22,
     "metadata": {},
     "output_type": "execute_result"
    }
   ],
   "source": [
    "solution(100, 100, [10])"
   ]
  }
 ],
 "metadata": {
  "kernelspec": {
   "display_name": "Python 3 (ipykernel)",
   "language": "python",
   "name": "python3"
  },
  "language_info": {
   "codemirror_mode": {
    "name": "ipython",
    "version": 3
   },
   "file_extension": ".py",
   "mimetype": "text/x-python",
   "name": "python",
   "nbconvert_exporter": "python",
   "pygments_lexer": "ipython3",
   "version": "3.9.7"
  }
 },
 "nbformat": 4,
 "nbformat_minor": 5
}
