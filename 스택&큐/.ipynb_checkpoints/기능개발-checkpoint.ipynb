{
 "cells": [
  {
   "cell_type": "markdown",
   "id": "7ce95a11",
   "metadata": {},
   "source": [
    "# 문제 해결 아이디어 "
   ]
  },
  {
   "cell_type": "code",
   "execution_count": null,
   "id": "98576a57",
   "metadata": {},
   "outputs": [],
   "source": [
    "남은 개발 "
   ]
  },
  {
   "cell_type": "code",
   "execution_count": 29,
   "id": "c235f672",
   "metadata": {},
   "outputs": [],
   "source": [
    "import math\n",
    "from collections import deque\n",
    "\n",
    "def solution(progresses, speeds):\n",
    "    \n",
    "    answer = []\n",
    "    days = deque([])\n",
    "    \n",
    "    for i in range(len(progresses)):\n",
    "        day = math.ceil(float(100 - progresses[i]) / speeds[i])\n",
    "        days.append(day)\n",
    "    \n",
    "    \n",
    "    prev = days.popleft()\n",
    "    release = 1  \n",
    "    \n",
    "    while len(days) != 0 :\n",
    "        next = days.popleft()\n",
    "        \n",
    "        if prev >= next:\n",
    "            release = release + 1\n",
    "            \n",
    "        else :\n",
    "            answer.append(release)\n",
    "            release = 1\n",
    "            prev = next\n",
    "\n",
    "    answer.append(release)\n",
    "    return answer"
   ]
  },
  {
   "cell_type": "code",
   "execution_count": 30,
   "id": "018655cd",
   "metadata": {},
   "outputs": [
    {
     "data": {
      "text/plain": [
       "[2, 1]"
      ]
     },
     "execution_count": 30,
     "metadata": {},
     "output_type": "execute_result"
    }
   ],
   "source": [
    "solution([93, 30, 55], [1, 30, 5])"
   ]
  },
  {
   "cell_type": "code",
   "execution_count": null,
   "id": "86d8a142",
   "metadata": {},
   "outputs": [],
   "source": []
  }
 ],
 "metadata": {
  "kernelspec": {
   "display_name": "Python 3 (ipykernel)",
   "language": "python",
   "name": "python3"
  },
  "language_info": {
   "codemirror_mode": {
    "name": "ipython",
    "version": 3
   },
   "file_extension": ".py",
   "mimetype": "text/x-python",
   "name": "python",
   "nbconvert_exporter": "python",
   "pygments_lexer": "ipython3",
   "version": "3.9.7"
  }
 },
 "nbformat": 4,
 "nbformat_minor": 5
}
