{
 "cells": [
  {
   "cell_type": "markdown",
   "id": "2bb3e29d",
   "metadata": {},
   "source": [
    "# 문제 해결 아이디어 "
   ]
  },
  {
   "cell_type": "markdown",
   "id": "d2d195ce",
   "metadata": {},
   "source": [
    "   \n",
    "   "
   ]
  },
  {
   "cell_type": "markdown",
   "id": "32eab204",
   "metadata": {},
   "source": [
    "인쇄 목록 내의 최고 우선 순위와 현재 문서의 우선순위를 비교 \n",
    "    \n",
    "    최고 우선 순위보다 현재 문서의 우선 순위가 낮은 경우 \n",
    "    -> 대기 목록의 마지막에 넣어준다. \n",
    "    \n",
    "    최고 우선 순위인 경우                                \n",
    "    -> 인쇄 진행 \n",
    "       인쇄 순서를 높여준다. \n",
    "       만약, 인쇄되는 문서가 요청한 문서인 경우 인쇄 순서를 반환  "
   ]
  },
  {
   "cell_type": "markdown",
   "id": "fc15fcd2",
   "metadata": {},
   "source": [
    "\n",
    "\n"
   ]
  },
  {
   "cell_type": "markdown",
   "id": "cf7055b7",
   "metadata": {},
   "source": [
    "\n"
   ]
  },
  {
   "cell_type": "markdown",
   "id": "2b6aed35",
   "metadata": {},
   "source": [
    "solution 1 "
   ]
  },
  {
   "cell_type": "code",
   "execution_count": 11,
   "id": "9695297f",
   "metadata": {},
   "outputs": [],
   "source": [
    "from collections import deque\n",
    "\n",
    "def solution(priorities, location):\n",
    "    \n",
    "    #대기 목록의 우선 순위를 담은 큐 \n",
    "    priorities_list = deque(priorities)\n",
    "    \n",
    "    #문서의 인덱스를 담은 큐\n",
    "    waiting_list = deque(range(len(priorities)))\n",
    "    \n",
    "    #인쇄 순서\n",
    "    order = 0\n",
    "    \n",
    "    while len(waiting_list) > 0 :\n",
    "        \n",
    "        #최고 우선 순위 \n",
    "        highest = max(priorities_list)  \n",
    "        \n",
    "        #현재 문서와 우선순위 \n",
    "        p = priorities_list.popleft() \n",
    "        doc = waiting_list.popleft()\n",
    "        \n",
    "        if p != highest :\n",
    "            priorities_list.append(p)\n",
    "            waiting_list.append(doc)\n",
    "        \n",
    "        else :\n",
    "            order = order + 1\n",
    "            if location == doc :\n",
    "                return order"
   ]
  },
  {
   "cell_type": "markdown",
   "id": "8881c0f8",
   "metadata": {},
   "source": [
    "\n",
    "\n"
   ]
  },
  {
   "cell_type": "markdown",
   "id": "bb20eda2",
   "metadata": {},
   "source": [
    "solution 2 "
   ]
  },
  {
   "cell_type": "code",
   "execution_count": 12,
   "id": "eb6fbebd",
   "metadata": {},
   "outputs": [],
   "source": [
    "def solution(priorities, location):\n",
    "    answer = 0\n",
    "    \n",
    "    i = 0\n",
    "    while priorities[location] :\n",
    "        if priorities[i] == max(priorities) :\n",
    "            priorities[i] = 0\n",
    "            answer = answer + 1\n",
    "        i = (i + 1) % len(priorities)\n",
    "        \n",
    "    return answer"
   ]
  },
  {
   "cell_type": "code",
   "execution_count": 13,
   "id": "b7e22408",
   "metadata": {},
   "outputs": [
    {
     "data": {
      "text/plain": [
       "5"
      ]
     },
     "execution_count": 13,
     "metadata": {},
     "output_type": "execute_result"
    }
   ],
   "source": [
    "solution([1, 1, 9, 1, 1, 1], 0)"
   ]
  }
 ],
 "metadata": {
  "kernelspec": {
   "display_name": "Python 3 (ipykernel)",
   "language": "python",
   "name": "python3"
  },
  "language_info": {
   "codemirror_mode": {
    "name": "ipython",
    "version": 3
   },
   "file_extension": ".py",
   "mimetype": "text/x-python",
   "name": "python",
   "nbconvert_exporter": "python",
   "pygments_lexer": "ipython3",
   "version": "3.9.7"
  }
 },
 "nbformat": 4,
 "nbformat_minor": 5
}
