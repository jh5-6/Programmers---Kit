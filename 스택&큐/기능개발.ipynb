{
 "cells": [
  {
   "cell_type": "markdown",
   "id": "c3dbc097",
   "metadata": {},
   "source": [
    "# 문제 해결 아이디어 "
   ]
  },
  {
   "cell_type": "markdown",
   "id": "f006c7a4",
   "metadata": {},
   "source": [
    "현재 진행도에서 speed만큼 일을 했을 때, 걸리는 시간 계산하여 dequqe에 저장 \n",
    "\n",
    "    days : 작업일수 배열\n",
    "    prev : 기준 작업 소요일 \n",
    "    current : 현재 작업 일수  \n",
    "    release : 동시에 배포 가능한 작업 수 "
   ]
  },
  {
   "cell_type": "markdown",
   "id": "e976070d",
   "metadata": {},
   "source": [
    "\n",
    "현재 소요일이 기준 작업 소요일보다 작거나 같을 경우 동시에 배포 가능 -> release ++ \n",
    "\n",
    "다음 작업 소요일이 기준 작업 소요일보다 큰 경우 \n",
    "    \n",
    "    지금까지 한 작업들을 먼저 배포 -> answer.append(release)\n",
    "    기준 작업 소요일 초기화          -> prev = next\n",
    "    release 값 초기화              -> release = 1\n"
   ]
  },
  {
   "cell_type": "markdown",
   "id": "845e73bb",
   "metadata": {},
   "source": [
    "*주의할 점 : 맨 마지막 배포의 경우 while문 밖에서 해주어야 함 "
   ]
  },
  {
   "cell_type": "code",
   "execution_count": 3,
   "id": "c235f672",
   "metadata": {},
   "outputs": [],
   "source": [
    "import math\n",
    "from collections import deque\n",
    "\n",
    "def solution(progresses, speeds):\n",
    "    \n",
    "    answer = []\n",
    "    days = deque([])\n",
    "    \n",
    "    for i in range(len(progresses)):\n",
    "        day = math.ceil(float(100 - progresses[i]) / speeds[i])\n",
    "        days.append(day)    \n",
    "    \n",
    "    prev = days.popleft()\n",
    "    release = 1  \n",
    "    \n",
    "    while len(days) > 0 :\n",
    "        current = days.popleft()\n",
    "        \n",
    "        if prev >= current:\n",
    "            release = release + 1\n",
    "            \n",
    "        else :\n",
    "            answer.append(release)\n",
    "            release = 1\n",
    "            prev = current\n",
    "\n",
    "    answer.append(release)\n",
    "    return answer"
   ]
  },
  {
   "cell_type": "code",
   "execution_count": 5,
   "id": "018655cd",
   "metadata": {},
   "outputs": [
    {
     "data": {
      "text/plain": [
       "[1, 3, 2]"
      ]
     },
     "execution_count": 5,
     "metadata": {},
     "output_type": "execute_result"
    }
   ],
   "source": [
    "solution([95, 90, 99, 99, 80, 99], [1, 1, 1, 1, 1, 1])"
   ]
  }
 ],
 "metadata": {
  "kernelspec": {
   "display_name": "Python 3 (ipykernel)",
   "language": "python",
   "name": "python3"
  },
  "language_info": {
   "codemirror_mode": {
    "name": "ipython",
    "version": 3
   },
   "file_extension": ".py",
   "mimetype": "text/x-python",
   "name": "python",
   "nbconvert_exporter": "python",
   "pygments_lexer": "ipython3",
   "version": "3.9.7"
  }
 },
 "nbformat": 4,
 "nbformat_minor": 5
}
