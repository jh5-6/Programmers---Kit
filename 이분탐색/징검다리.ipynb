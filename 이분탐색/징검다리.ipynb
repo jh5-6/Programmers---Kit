{
 "cells": [
  {
   "cell_type": "markdown",
   "id": "469e4252",
   "metadata": {},
   "source": [
    "# [징검다리]"
   ]
  },
  {
   "cell_type": "markdown",
   "id": "d9b6f8c0",
   "metadata": {},
   "source": [
    "\n"
   ]
  },
  {
   "cell_type": "markdown",
   "id": "160a2106",
   "metadata": {},
   "source": [
    "출발지점부터 distance만큼 떨어진 곳에 도착지점이 있습니다. 그리고 그사이에는 바위들이 놓여있습니다. \n",
    "바위 중 몇 개를 제거하려고 합니다.\n",
    "예를 들어, 도착지점이 25만큼 떨어져 있고, 바위가 [2, 14, 11, 21, 17] 지점에 놓여있을 때 바위 2개를 제거하면 출발지점, 도착지점, 바위 간의 거리가 아래와 같습니다.\n",
    "\n",
    "    제거한 바위의 위치\t   각 바위 사이의 거리\t   거리의 최솟값\n",
    "    [21, 17]\t           [2, 9, 3, 11]\t       2\n",
    "    [2, 21]\t               [11, 3, 3, 8]\t       3\n",
    "    [2, 11]\t               [14, 3, 4, 4]\t       3\n",
    "    [11, 21]\t           [2, 12, 3, 8]\t       2\n",
    "    [2, 14]\t               [11, 6, 4, 4]\t       4\n",
    "        \n",
    "    위에서 구한 거리의 최솟값 중에 가장 큰 값은 4입니다.\n",
    "\n",
    "출발지점부터 도착지점까지의 거리 distance, 바위들이 있는 위치를 담은 배열 rocks, 제거할 바위의 수 n이 매개변수로 주어질 때, 바위를 n개 제거한 뒤 각 지점 사이의 거리의 최솟값 중에 가장 큰 값을 return 하도록 solution 함수를 작성해주세요."
   ]
  },
  {
   "cell_type": "markdown",
   "id": "e3d0aad0",
   "metadata": {},
   "source": [
    "\n"
   ]
  },
  {
   "cell_type": "markdown",
   "id": "d8480b19",
   "metadata": {},
   "source": [
    "< 제한사항 >\n",
    "- 도착지점까지의 거리 distance는 1 이상 1,000,000,000 이하입니다.\n",
    "- 바위는 1개 이상 50,000개 이하가 있습니다.\n",
    "- n 은 1 이상 바위의 개수 이하입니다."
   ]
  },
  {
   "cell_type": "markdown",
   "id": "88a714ea",
   "metadata": {},
   "source": [
    "\n"
   ]
  },
  {
   "cell_type": "markdown",
   "id": "c114ee77",
   "metadata": {},
   "source": [
    "\n"
   ]
  },
  {
   "cell_type": "markdown",
   "id": "7779243e",
   "metadata": {},
   "source": [
    "[TIP]\n",
    "1. 이분 탐색의 기준 값 설정하기 \n",
    "    * mid = 돌과 돌 사이의 최소 거리\n",
    "    \n",
    "2. 이분 탐색의 left, right 변화시킬 기준 설정하기\n",
    "    * 기준에 따라 삭제된 돌의 개수와 n 비교 "
   ]
  },
  {
   "cell_type": "markdown",
   "id": "5c69ac24",
   "metadata": {},
   "source": [
    "\n"
   ]
  },
  {
   "cell_type": "markdown",
   "id": "6435a591",
   "metadata": {},
   "source": [
    "[문제 풀이 진행 방식]\n",
    "* diff = 실제 돌과 돌 사이의 거리 \n",
    "    \n",
    "1. diff < mid  : 뒤쪽 돌을 삭제하여 돌 사이의 거리를 늘린다.\n",
    "2. diff >= mid : 해당 mid 단계에서의 최소거리인지 확인한다. \n",
    "    \n",
    "    \n",
    "3. 삭제한 돌의 개수가 n보다 큰 경우 : 바위를 조금만 제거하도록 mid 값을 줄인다.     \n",
    "4. 삭제한 돌의 개수가 n보다 작거나 같은 경우 \n",
    "   -> 바위를 너무 적게 제거 : 바위를 조금만 더 제거하도록 mid 값을 늘린다. \n",
    "   -> 바위를 딱 맞게 제거 : mid 값이 될 수 있는 값들 중 제일 큰 값을 찾기 위해 mid 값을 늘린다."
   ]
  },
  {
   "cell_type": "markdown",
   "id": "0df0f550",
   "metadata": {},
   "source": [
    "\n"
   ]
  },
  {
   "cell_type": "markdown",
   "id": "edb732f4",
   "metadata": {},
   "source": [
    "\n"
   ]
  },
  {
   "cell_type": "markdown",
   "id": "68e15b2d",
   "metadata": {},
   "source": [
    "Solution"
   ]
  },
  {
   "cell_type": "code",
   "execution_count": 46,
   "id": "aaaaa9b2",
   "metadata": {},
   "outputs": [],
   "source": [
    "def solution(distance, rocks, n):\n",
    "\n",
    "    answer = 0\n",
    "    \n",
    "    rocks.sort()\n",
    "    rocks.append(distance)\n",
    "    \n",
    "    left, right = 0, distance\n",
    "    \n",
    "    while left <= right :\n",
    "        \n",
    "        mid = (left + right) // 2   # 거리의 최솟값을 mid로 설정\n",
    "        min_distance = float(\"inf\")  # 해당 mid 단계의 거리의 최솟값\n",
    "        removed_rock = 0             # 삭제된 돌의 개수 \n",
    "        curr = 0                     # 현재 위치\n",
    "        \n",
    "        for rock in rocks:\n",
    "            diff = rock - curr       # 바위와 현재 위치 사이 거리\n",
    "            \n",
    "            if diff < mid:           # 현재 위치와 바위 사이의 거리가 mid 보다 짧은 경우\n",
    "                removed_rock += 1    # 바위 제거 (= curr 위치 그대로)\n",
    "            else:                    # 현재 위치와 바위 사이의 거리가 mid와 같거나 큰 경우                                  \n",
    "                curr = rock           # 현재 위치를 바위로 이동 \n",
    "                min_distance = min(min_distance, diff)  # 현재 위치와 바위 사이의 거리가 해당 mid 단계에서 최소거리인지 확인\n",
    "                \n",
    "        # mid 값 설정\n",
    "        if removed_rock > n:         # 바위를 기준보다 많이 제거한 경우  \n",
    "            right = mid - 1          # 거리의 최솟값을 더 작게 설정 : 삭제되는 바위의 양 감소\n",
    "        else:                        # 바위를 기준에 맞춰 제거했거나 덜 제거한 경우  \n",
    "            answer = min_distance    \n",
    "            left = mid + 1           # 거리의 최솟값을 더 크게 설정 :  mid 값 중 최댓값 탐색 | 삭제되는 바위의 양 증가 \n",
    "\n",
    "    return answer"
   ]
  },
  {
   "cell_type": "markdown",
   "id": "4c00c12a",
   "metadata": {},
   "source": [
    "\n"
   ]
  },
  {
   "cell_type": "markdown",
   "id": "172e9df9",
   "metadata": {},
   "source": [
    "\n"
   ]
  },
  {
   "cell_type": "code",
   "execution_count": 44,
   "id": "cbc85ddb",
   "metadata": {},
   "outputs": [
    {
     "data": {
      "text/plain": [
       "4"
      ]
     },
     "execution_count": 44,
     "metadata": {},
     "output_type": "execute_result"
    }
   ],
   "source": [
    "solution(25, [2, 14, 11, 21, 17], 2)"
   ]
  }
 ],
 "metadata": {
  "kernelspec": {
   "display_name": "Python 3 (ipykernel)",
   "language": "python",
   "name": "python3"
  },
  "language_info": {
   "codemirror_mode": {
    "name": "ipython",
    "version": 3
   },
   "file_extension": ".py",
   "mimetype": "text/x-python",
   "name": "python",
   "nbconvert_exporter": "python",
   "pygments_lexer": "ipython3",
   "version": "3.9.7"
  }
 },
 "nbformat": 4,
 "nbformat_minor": 5
}
