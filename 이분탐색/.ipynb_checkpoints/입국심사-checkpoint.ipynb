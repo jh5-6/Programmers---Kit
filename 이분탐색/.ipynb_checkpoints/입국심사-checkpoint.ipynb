{
 "cells": [
  {
   "cell_type": "markdown",
   "id": "f488ab6c",
   "metadata": {},
   "source": [
    "# [입국심사]"
   ]
  },
  {
   "cell_type": "markdown",
   "id": "ec6df770",
   "metadata": {},
   "source": [
    "\n"
   ]
  },
  {
   "cell_type": "markdown",
   "id": "b4e2a802",
   "metadata": {},
   "source": [
    "\n"
   ]
  },
  {
   "cell_type": "markdown",
   "id": "b732edcd",
   "metadata": {},
   "source": [
    "n명이 입국심사를 위해 줄을 서서 기다리고 있습니다. 각 입국심사대에 있는 심사관마다 심사하는데 걸리는 시간은 다릅니다.\n",
    "\n",
    "처음에 모든 심사대는 비어있습니다. 한 심사대에서는 동시에 한 명만 심사를 할 수 있습니다. 가장 앞에 서 있는 사람은 비어 있는 심사대로 가서 심사를 받을 수 있습니다. 하지만 더 빨리 끝나는 심사대가 있으면 기다렸다가 그곳으로 가서 심사를 받을 수도 있습니다.\n",
    "\n",
    "모든 사람이 심사를 받는데 걸리는 시간을 최소로 하고 싶습니다.\n",
    "\n",
    "입국심사를 기다리는 사람 수 n, 각 심사관이 한 명을 심사하는데 걸리는 시간이 담긴 배열 times가 매개변수로 주어질 때, 모든 사람이 심사를 받는데 걸리는 시간의 최솟값을 return 하도록 solution 함수를 작성해주세요.\n"
   ]
  },
  {
   "cell_type": "markdown",
   "id": "dce1ca3e",
   "metadata": {},
   "source": [
    "\n"
   ]
  },
  {
   "cell_type": "markdown",
   "id": "be80b8c1",
   "metadata": {},
   "source": [
    "    <제한사항>\n",
    "    - 입국심사를 기다리는 사람은 1명 이상 1,000,000,000명 이하입니다.\n",
    "    - 각 심사관이 한 명을 심사하는데 걸리는 시간은 1분 이상 1,000,000,000분 이하입니다.\n",
    "    - 심사관은 1명 이상 100,000명 이하입니다."
   ]
  },
  {
   "cell_type": "markdown",
   "id": "3992265b",
   "metadata": {},
   "source": [
    "\n"
   ]
  },
  {
   "cell_type": "markdown",
   "id": "57006e69",
   "metadata": {},
   "source": [
    "[TIP] 접근 방법 \n",
    "\n",
    "1. 처음에 middle 값을 대충 정함\n",
    "2. middle 시간안에 처리할 수 있는 총 사람수를 구함\n",
    "3. [해당시간에 처리할수 있는 사람수]와 [목표 사람수]를 비교함 \n",
    "\n",
    "\n",
    "    -> [처리할수 있는 사람수] > [처리해야되는 사람수] : 시간을 줄여봄\n",
    "    -> [처리할수 있는 사람수] < [처리해야되는 사람수] : 시간을 늘려봄\n",
    "    -> [처리할수 있는 사람수] == [처리해야되는 사람수] : 정답\n"
   ]
  },
  {
   "cell_type": "markdown",
   "id": "556c6e4e",
   "metadata": {},
   "source": [
    "\n"
   ]
  },
  {
   "cell_type": "markdown",
   "id": "430efc25",
   "metadata": {},
   "source": [
    "\n"
   ]
  },
  {
   "cell_type": "markdown",
   "id": "b7de4554",
   "metadata": {},
   "source": [
    "Solution 1 "
   ]
  },
  {
   "cell_type": "code",
   "execution_count": 1,
   "id": "e40d63c2",
   "metadata": {},
   "outputs": [],
   "source": [
    "import math \n",
    "\n",
    "def solution(n, times):\n",
    "    \n",
    "    min_time = math.floor(n / len(times)) * min(times)\n",
    "    max_time = math.ceil(n / len(times)) * max(times)\n",
    "    \n",
    "    while min_time < max_time:      \n",
    "        mid_time = (min_time + max_time) // 2     \n",
    "        count = [mid_time // time for time in times]\n",
    "       \n",
    "        if n < sum(count) :\n",
    "            max_time = mid_time  \n",
    "            \n",
    "        elif n == sum(count) :\n",
    "            total_time = [t*c for t,c in zip(times, count)]\n",
    "            return max(total_time)\n",
    "        \n",
    "        else :\n",
    "            if min_time == mid_time:\n",
    "                mid_time = max_time \n",
    "                count = [mid_time // time for time in times]\n",
    "                return max([t*c for t,c in zip(times, count)])\n",
    "            \n",
    "            min_time = mid_time"
   ]
  },
  {
   "cell_type": "code",
   "execution_count": 71,
   "id": "3d88afa7",
   "metadata": {},
   "outputs": [
    {
     "data": {
      "text/plain": [
       "30"
      ]
     },
     "execution_count": 71,
     "metadata": {},
     "output_type": "execute_result"
    }
   ],
   "source": [
    "solution(10, [6, 8, 10])"
   ]
  }
 ],
 "metadata": {
  "kernelspec": {
   "display_name": "Python 3 (ipykernel)",
   "language": "python",
   "name": "python3"
  },
  "language_info": {
   "codemirror_mode": {
    "name": "ipython",
    "version": 3
   },
   "file_extension": ".py",
   "mimetype": "text/x-python",
   "name": "python",
   "nbconvert_exporter": "python",
   "pygments_lexer": "ipython3",
   "version": "3.9.7"
  }
 },
 "nbformat": 4,
 "nbformat_minor": 5
}
