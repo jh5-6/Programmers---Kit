{
 "cells": [
  {
   "cell_type": "markdown",
   "id": "3ed51d9f",
   "metadata": {},
   "source": [
    "# [네트워크]"
   ]
  },
  {
   "cell_type": "markdown",
   "id": "b84d2fd5",
   "metadata": {},
   "source": [
    "\n"
   ]
  },
  {
   "cell_type": "markdown",
   "id": "e79f41d8",
   "metadata": {},
   "source": [
    "네트워크란 컴퓨터 상호 간에 정보를 교환할 수 있도록 연결된 형태를 의미합니다. \n",
    "\n",
    "\n",
    "\n",
    "예를 들어, 컴퓨터 A와 컴퓨터 B가 직접적으로 연결되어있고, 컴퓨터 B와 컴퓨터 C가 직접적으로 연결되어 있을 때 컴퓨터 A와 컴퓨터 C도 간접적으로 연결되어 정보를 교환할 수 있습니다. \n",
    "\n",
    "따라서 컴퓨터 A, B, C는 모두 같은 네트워크 상에 있다고 할 수 있습니다.\n",
    "\n",
    "\n",
    "\n",
    "컴퓨터의 개수 n, 연결에 대한 정보가 담긴 2차원 배열 computers가 매개변수로 주어질 때, 네트워크의 개수를 return 하도록 solution 함수를 작성하시오."
   ]
  },
  {
   "cell_type": "markdown",
   "id": "0e6efdf1",
   "metadata": {},
   "source": [
    "\n"
   ]
  },
  {
   "cell_type": "markdown",
   "id": "8a47f051",
   "metadata": {},
   "source": [
    "< 제한사항 >\n",
    "- 컴퓨터의 개수 n은 1 이상 200 이하인 자연수입니다.\n",
    "- 각 컴퓨터는 0부터 n-1인 정수로 표현합니다.\n",
    "- i번 컴퓨터와 j번 컴퓨터가 연결되어 있으면 computers[i][j]를 1로 표현합니다.\n",
    "- computer[i][i]는 항상 1입니다."
   ]
  },
  {
   "cell_type": "markdown",
   "id": "3f09c544",
   "metadata": {},
   "source": [
    "\n"
   ]
  },
  {
   "cell_type": "markdown",
   "id": "8e26d3bc",
   "metadata": {},
   "source": [
    "\n"
   ]
  },
  {
   "cell_type": "markdown",
   "id": "3dac35d7",
   "metadata": {},
   "source": [
    "Solution DFS 활용한 문제 풀이"
   ]
  },
  {
   "cell_type": "code",
   "execution_count": 51,
   "id": "191c42c3",
   "metadata": {},
   "outputs": [],
   "source": [
    "def solution(n, computers):\n",
    "    \n",
    "    answer = 0 \n",
    "\n",
    "    com = [i for i in range(n)]  #아직 방문하지 않은 컴퓨터 node\n",
    "    stack = []                    #같은 네트워크 상에 있는 컴퓨터 node\n",
    "    \n",
    "    \n",
    "    while com:  # 새로운 네트워크 탐색    \n",
    "        stack.append(com.pop())  \n",
    "        answer += 1\n",
    "\n",
    "        while stack:\n",
    "            curr = stack.pop()\n",
    "            for i in range(n):\n",
    "                if (computers[curr][i] == 1) and (i in com):\n",
    "                    stack.append(i)\n",
    "                    com.remove(i)\n",
    "                    \n",
    "    return answer"
   ]
  },
  {
   "cell_type": "markdown",
   "id": "481ab1e2",
   "metadata": {},
   "source": [
    "\n"
   ]
  },
  {
   "cell_type": "markdown",
   "id": "99222f26",
   "metadata": {},
   "source": [
    "\n"
   ]
  },
  {
   "cell_type": "code",
   "execution_count": 52,
   "id": "468685d1",
   "metadata": {},
   "outputs": [
    {
     "data": {
      "text/plain": [
       "2"
      ]
     },
     "execution_count": 52,
     "metadata": {},
     "output_type": "execute_result"
    }
   ],
   "source": [
    "solution(3, [[1, 1, 0], [1, 1, 0], [0, 0, 1]])"
   ]
  }
 ],
 "metadata": {
  "kernelspec": {
   "display_name": "Python 3 (ipykernel)",
   "language": "python",
   "name": "python3"
  },
  "language_info": {
   "codemirror_mode": {
    "name": "ipython",
    "version": 3
   },
   "file_extension": ".py",
   "mimetype": "text/x-python",
   "name": "python",
   "nbconvert_exporter": "python",
   "pygments_lexer": "ipython3",
   "version": "3.9.7"
  }
 },
 "nbformat": 4,
 "nbformat_minor": 5
}
