{
 "cells": [
  {
   "cell_type": "markdown",
   "id": "9d872e2d",
   "metadata": {},
   "source": [
    "# [단어 변환]"
   ]
  },
  {
   "cell_type": "markdown",
   "id": "08274fa6",
   "metadata": {},
   "source": [
    "\n"
   ]
  },
  {
   "cell_type": "markdown",
   "id": "4b6e6535",
   "metadata": {},
   "source": [
    "두 개의 단어 begin, target과 단어의 집합 words가 있습니다. \n",
    "아래와 같은 규칙을 이용하여 begin에서 target으로 변환하는 가장 짧은 변환 과정을 찾으려고 합니다.\n",
    "\n",
    "    1. 한 번에 한 개의 알파벳만 바꿀 수 있습니다.\n",
    "    2. words에 있는 단어로만 변환할 수 있습니다.\n",
    "\n",
    "예를 들어 begin이 \"hit\", target가 \"cog\", words가 [\"hot\",\"dot\",\"dog\",\"lot\",\"log\",\"cog\"]라면 \n",
    "\"hit\" -> \"hot\" -> \"dot\" -> \"dog\" -> \"cog\"와 같이 4단계를 거쳐 변환할 수 있습니다.\n",
    "\n",
    "두 개의 단어 begin, target과 단어의 집합 words가 매개변수로 주어질 때, 최소 몇 단계의 과정을 거쳐 begin을 target으로 변환할 수 있는지 return 하도록 solution 함수를 작성해주세요."
   ]
  },
  {
   "cell_type": "markdown",
   "id": "20a2d907",
   "metadata": {},
   "source": [
    "\n"
   ]
  },
  {
   "cell_type": "markdown",
   "id": "0ae78c35",
   "metadata": {},
   "source": [
    "< 제한사항 >\n",
    "\n",
    "- 각 단어는 알파벳 소문자로만 이루어져 있습니다.\n",
    "- 각 단어의 길이는 3 이상 10 이하이며 모든 단어의 길이는 같습니다.\n",
    "- words에는 3개 이상 50개 이하의 단어가 있으며 중복되는 단어는 없습니다.\n",
    "- begin과 target은 같지 않습니다.\n",
    "- 변환할 수 없는 경우에는 0를 return 합니다."
   ]
  },
  {
   "cell_type": "markdown",
   "id": "643462f2",
   "metadata": {},
   "source": [
    "\n"
   ]
  },
  {
   "cell_type": "markdown",
   "id": "7bcbea46",
   "metadata": {},
   "source": [
    "\n"
   ]
  },
  {
   "cell_type": "markdown",
   "id": "c2d15432",
   "metadata": {},
   "source": [
    "Solution BFS 활용한 문제 풀이 "
   ]
  },
  {
   "cell_type": "code",
   "execution_count": 22,
   "id": "f93f8d7d",
   "metadata": {},
   "outputs": [],
   "source": [
    "from collections import deque \n",
    "\n",
    "def solution(begin, target, words):\n",
    "    \n",
    "    que = deque() \n",
    "    que.append([begin, 0])\n",
    "    visited = [False for _ in range(len(words))]\n",
    "        \n",
    "    while que :      \n",
    "        \n",
    "        word, stage = que.popleft()\n",
    "        \n",
    "        if word == target:\n",
    "            return stage \n",
    "        \n",
    "        for i in range(len(words)) :\n",
    "            cnt = 0  \n",
    "            \n",
    "            if not visited[i]:\n",
    "                for j in range(len(word)):\n",
    "                    if word[j] != words[i][j] :\n",
    "                        cnt += 1\n",
    "                        \n",
    "                if cnt == 1:\n",
    "                    que.append([words[i], stage+1])\n",
    "                    visited[i] = True\n",
    "                \n",
    "    return 0"
   ]
  },
  {
   "cell_type": "markdown",
   "id": "e37a1bf7",
   "metadata": {},
   "source": [
    "\n"
   ]
  },
  {
   "cell_type": "markdown",
   "id": "17c90da6",
   "metadata": {},
   "source": [
    "\n"
   ]
  },
  {
   "cell_type": "code",
   "execution_count": 23,
   "id": "79f22505",
   "metadata": {},
   "outputs": [
    {
     "data": {
      "text/plain": [
       "4"
      ]
     },
     "execution_count": 23,
     "metadata": {},
     "output_type": "execute_result"
    }
   ],
   "source": [
    "solution(\"hit\", \"cog\", [\"hot\", \"dot\", \"dog\", \"lot\", \"log\", \"cog\"])"
   ]
  }
 ],
 "metadata": {
  "kernelspec": {
   "display_name": "Python 3 (ipykernel)",
   "language": "python",
   "name": "python3"
  },
  "language_info": {
   "codemirror_mode": {
    "name": "ipython",
    "version": 3
   },
   "file_extension": ".py",
   "mimetype": "text/x-python",
   "name": "python",
   "nbconvert_exporter": "python",
   "pygments_lexer": "ipython3",
   "version": "3.9.7"
  }
 },
 "nbformat": 4,
 "nbformat_minor": 5
}
