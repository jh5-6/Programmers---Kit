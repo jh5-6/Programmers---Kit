{
 "cells": [
  {
   "cell_type": "markdown",
   "id": "de254eef",
   "metadata": {},
   "source": [
    "# [타겟 넘버]"
   ]
  },
  {
   "cell_type": "markdown",
   "id": "819bf536",
   "metadata": {},
   "source": [
    "\n"
   ]
  },
  {
   "cell_type": "markdown",
   "id": "cef34f4b",
   "metadata": {},
   "source": [
    "\n"
   ]
  },
  {
   "cell_type": "markdown",
   "id": "3eca8b86",
   "metadata": {},
   "source": [
    "n개의 음이 아닌 정수들이 있습니다. 이 정수들을 순서를 바꾸지 않고 적절히 더하거나 빼서 타겟 넘버를 만들려고 합니다. 예를 들어 [1, 1, 1, 1, 1]로 숫자 3을 만들려면 다음 다섯 방법을 쓸 수 있습니다.\n",
    "\n",
    "    -1+1+1+1+1 = 3\n",
    "    +1-1+1+1+1 = 3\n",
    "    +1+1-1+1+1 = 3\n",
    "    +1+1+1-1+1 = 3\n",
    "    +1+1+1+1-1 = 3\n",
    "    \n",
    "사용할 수 있는 숫자가 담긴 배열 numbers, 타겟 넘버 target이 매개변수로 주어질 때 숫자를 적절히 더하고 빼서 타겟 넘버를 만드는 방법의 수를 return 하도록 solution 함수를 작성해주세요."
   ]
  },
  {
   "cell_type": "markdown",
   "id": "62802214",
   "metadata": {},
   "source": [
    "    <제한사항>\n",
    "    - 주어지는 숫자의 개수는 2개 이상 20개 이하입니다.\n",
    "    - 각 숫자는 1 이상 50 이하인 자연수입니다.\n",
    "    - 타겟 넘버는 1 이상 1000 이하인 자연수입니다."
   ]
  },
  {
   "cell_type": "markdown",
   "id": "6e535a1b",
   "metadata": {},
   "source": [
    "\n"
   ]
  },
  {
   "cell_type": "markdown",
   "id": "bcc95ea5",
   "metadata": {},
   "source": [
    "\n"
   ]
  },
  {
   "cell_type": "markdown",
   "id": "f3e3c185",
   "metadata": {},
   "source": [
    "[TIP]\n",
    "- itertools.product() : 두개 이상의 리스트(or 집합) 끼리의 데카르트 곱(cartesian product)를 계산하여 iterator로 반환 \n",
    "- [example 1] list(product('ABC', 'xy')) --> [('A', 'x'), ('A', 'y'), ('B', 'x'), ('B', 'y'), ('C', 'x'), ('C', 'y')]\n",
    "- [example 2] _list = [\"01\", \"ab\"],  list(product(*_list))  --> [('0', 'a'), ('0', 'b'), ('1', 'a'), ('1', 'b')]"
   ]
  },
  {
   "cell_type": "markdown",
   "id": "c04e23b3",
   "metadata": {},
   "source": [
    "\n"
   ]
  },
  {
   "cell_type": "markdown",
   "id": "a2722d29",
   "metadata": {},
   "source": [
    "\n"
   ]
  },
  {
   "cell_type": "markdown",
   "id": "3af8f34a",
   "metadata": {},
   "source": [
    "Solution 1 BFS 활용한 문제 풀이 "
   ]
  },
  {
   "cell_type": "code",
   "execution_count": 7,
   "id": "493ce7c2",
   "metadata": {},
   "outputs": [],
   "source": [
    "def solution(numbers, target):\n",
    "    answer = 0\n",
    "    leaves = [0]\n",
    "    \n",
    "    for num in numbers:\n",
    "        tmp = []\n",
    "        for parent in leaves:\n",
    "            tmp.append(parent + num)\n",
    "            tmp.append(parent - num)\n",
    "        leaves = tmp \n",
    "        \n",
    "    for leaf in leaves:\n",
    "        if leaf == target:\n",
    "            answer += 1 \n",
    "            \n",
    "    return answer"
   ]
  },
  {
   "cell_type": "markdown",
   "id": "59c5f148",
   "metadata": {},
   "source": [
    "\n"
   ]
  },
  {
   "cell_type": "markdown",
   "id": "7c6c865e",
   "metadata": {},
   "source": [
    "\n"
   ]
  },
  {
   "cell_type": "markdown",
   "id": "37a46ccc",
   "metadata": {},
   "source": [
    "Solution 2 itertools.product() 사용한 문제 풀이"
   ]
  },
  {
   "cell_type": "code",
   "execution_count": 19,
   "id": "3a951810",
   "metadata": {},
   "outputs": [],
   "source": [
    "from itertools import product\n",
    "\n",
    "def solution(numbers, target):\n",
    "    \n",
    "    num = [(num, -num) for num in numbers]\n",
    "    s = list(map(sum, product(*num)))\n",
    "    \n",
    "    return s.count(target)"
   ]
  },
  {
   "cell_type": "code",
   "execution_count": 16,
   "id": "ef0cf0cb",
   "metadata": {},
   "outputs": [
    {
     "data": {
      "text/plain": [
       "2"
      ]
     },
     "execution_count": 16,
     "metadata": {},
     "output_type": "execute_result"
    }
   ],
   "source": [
    "solution([4, 1, 2, 1], 4)"
   ]
  }
 ],
 "metadata": {
  "kernelspec": {
   "display_name": "Python 3 (ipykernel)",
   "language": "python",
   "name": "python3"
  },
  "language_info": {
   "codemirror_mode": {
    "name": "ipython",
    "version": 3
   },
   "file_extension": ".py",
   "mimetype": "text/x-python",
   "name": "python",
   "nbconvert_exporter": "python",
   "pygments_lexer": "ipython3",
   "version": "3.9.7"
  }
 },
 "nbformat": 4,
 "nbformat_minor": 5
}
